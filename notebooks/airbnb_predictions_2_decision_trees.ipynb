{
 "metadata": {
  "language_info": {
   "codemirror_mode": {
    "name": "ipython",
    "version": 3
   },
   "file_extension": ".py",
   "mimetype": "text/x-python",
   "name": "python",
   "nbconvert_exporter": "python",
   "pygments_lexer": "ipython3",
   "version": "3.7.6-final"
  },
  "orig_nbformat": 2,
  "kernelspec": {
   "name": "python37664bitbaseconda062aaadf6fe649f9beb295b82a5e77a6",
   "display_name": "Python 3.7.6 64-bit ('base': conda)",
   "language": "python"
  }
 },
 "nbformat": 4,
 "nbformat_minor": 2,
 "cells": [
  {
   "cell_type": "code",
   "execution_count": 2,
   "metadata": {},
   "outputs": [],
   "source": [
    "import pandas as pd\n",
    "import os\n",
    "import seaborn as sns\n",
    "from time import time\n",
    "import pickle\n",
    "path = 'data/'\n",
    "\n",
    "df = pd.read_csv(os.path.join(path,'airbnb_listings_usa_cycle_1.csv'))\n",
    "# df=df[:10000]"
   ]
  },
  {
   "cell_type": "code",
   "execution_count": 3,
   "metadata": {},
   "outputs": [],
   "source": [
    "pd.set_option('display.max_rows', 40)\n",
    "pd.set_option('display.max_columns', 100)"
   ]
  },
  {
   "cell_type": "code",
   "execution_count": 4,
   "metadata": {},
   "outputs": [],
   "source": [
    "# 3. Arrange X features matrix & y target vector\n",
    "\n",
    "target = ['price']\n",
    "\n",
    "features = ['host_response_time','host_response_rate','host_acceptance_rate',\n",
    "'street','neighbourhood','neighbourhood_cleansed','neighbourhood_group_cleansed','city','state','zipcode','market','smart_location','latitude','longitude','property_type','room_type','accommodates','bathrooms','bedrooms','beds','bed_type','amenities','square_feet','minimum_nights','maximum_nights','instant_bookable','is_business_travel_ready','cancellation_policy','require_guest_profile_picture','require_guest_phone_verification','notes_len','transit_len','access_len','interaction_len','house_rules_len','host_about_len','metro_area','bedrooms_str','beds_str']\n",
    "\n",
    "# Wrangle and pre-process\n",
    "\n",
    "# Removing sparse features from features (sparse features are <90% populated)\n",
    "sparse_features = ['square_feet','neighbourhood_group_cleansed','host_response_rate','host_response_time','neighbourhood','host_acceptance_rate']\n",
    "\n",
    "unusable_features = ['amenities']\n",
    "\n",
    "duplicative_location_features = ['street','neighbourhood','neighbourhood_cleansed','neighbourhood_group_cleansed','city','state','zipcode','market','smart_location','metro_area']\n",
    "\n",
    "numeric_columns = df.dtypes[df.dtypes==int].index.tolist()\n",
    "nonnumeric_columns = df.dtypes[df.dtypes==object].index.tolist()\n",
    "\n",
    "df[nonnumeric_columns] = df[nonnumeric_columns].astype(str)\n",
    "\n",
    "selected_features = list(set(features) - set(sparse_features))\n",
    "selected_features = list(set(selected_features) - set(unusable_features))\n",
    "selected_features = list(set(selected_features) - set(duplicative_location_features))\n",
    "\n",
    "df = df[target + selected_features]\n",
    "\n",
    "df.dropna(inplace=True)"
   ]
  },
  {
   "cell_type": "code",
   "execution_count": 5,
   "metadata": {},
   "outputs": [],
   "source": [
    "y = df[target]\n",
    "X = df[selected_features]"
   ]
  },
  {
   "cell_type": "code",
   "execution_count": 6,
   "metadata": {},
   "outputs": [],
   "source": [
    "from sklearn.model_selection import train_test_split\n",
    "X_train, X_test, y_train, y_test = train_test_split(X,y, test_size=.2, random_state=42)"
   ]
  },
  {
   "cell_type": "code",
   "execution_count": 7,
   "metadata": {},
   "outputs": [],
   "source": [
    "# We need to encode features!\n",
    "\n",
    "from sklearn.preprocessing import OrdinalEncoder\n",
    "from sklearn.preprocessing import OneHotEncoder\n",
    "from sklearn.metrics import mean_absolute_error\n",
    "import category_encoders as ce"
   ]
  },
  {
   "cell_type": "code",
   "execution_count": 8,
   "metadata": {},
   "outputs": [
    {
     "output_type": "execute_result",
     "data": {
      "text/plain": [
       "(184760, 24)"
      ]
     },
     "metadata": {},
     "execution_count": 8
    }
   ],
   "source": [
    "X_train.shape"
   ]
  },
  {
   "cell_type": "code",
   "execution_count": 9,
   "metadata": {},
   "outputs": [
    {
     "output_type": "stream",
     "name": "stdout",
     "text": [
      "mae $179\n"
     ]
    }
   ],
   "source": [
    "import category_encoders as ce\n",
    "from sklearn.impute import SimpleImputer\n",
    "from sklearn.linear_model import LinearRegression\n",
    "from sklearn.pipeline import make_pipeline\n",
    "from sklearn.preprocessing import StandardScaler\n",
    "\n",
    "encoder = ce.OneHotEncoder(use_cat_names=True)\n",
    "imputer = SimpleImputer()\n",
    "# scaler = StandardScaler()\n",
    "model = LinearRegression()\n",
    "\n",
    "X_train_encoded = encoder.fit_transform(X_train)\n",
    "X_train_imputed = imputer.fit_transform(X_train_encoded)\n",
    "model.fit(X_train_imputed, y_train)\n",
    "\n",
    "X_test_encoded = encoder.transform(X_test)\n",
    "X_test_imputed = imputer.transform(X_test_encoded)\n",
    "y_pred = model.predict(X_test_imputed)\n",
    "\n",
    "mae = mean_absolute_error(y_test, y_pred)\n",
    "\n",
    "print(f'mae ${mae:,.0f}')\n",
    "# print(y_pred)\n",
    "\n"
   ]
  },
  {
   "source": [
    "Decision trees\n"
   ],
   "cell_type": "markdown",
   "metadata": {}
  },
  {
   "cell_type": "code",
   "execution_count": 20,
   "metadata": {},
   "outputs": [
    {
     "output_type": "stream",
     "name": "stdout",
     "text": [
      "Train Accuracy 0.9999730020564809\n",
      "Test Accuracy 1.0 does not seem right\n",
      "mae $134\n"
     ]
    }
   ],
   "source": [
    "# TODO\n",
    "from sklearn.pipeline import make_pipeline\n",
    "from sklearn.tree import DecisionTreeRegressor\n",
    "\n",
    "# These are the only two changes from the previous cell:\n",
    "# Remove StandardScaler (it's not needed or helpful for trees)\n",
    "# Change the model from LogisticRegression to DecisionTreeClassifier\n",
    "\n",
    "pipeline_decision_tree = make_pipeline(\n",
    "    ce.OneHotEncoder(use_cat_names=True), \n",
    "    SimpleImputer(strategy='mean'), \n",
    "    DecisionTreeRegressor(random_state=42)\n",
    ")\n",
    "\n",
    "# Fit on train\n",
    "pipeline_decision_tree.fit(X_train, y_train)\n",
    "\n",
    "# Score on train, val\n",
    "print('Train Accuracy', pipeline_decision_tree.score(X_train, y_train))\n",
    "print('Test Accuracy', pipeline_decision_tree.score(X_test, y_pred),\"does not seem right\")\n",
    "\n",
    "# Predict on test\n",
    "y_pred = pipeline_decision_tree.predict(X_test)\n",
    "mae = mean_absolute_error(y_test, y_pred)\n",
    "print(f'mae ${mae:,.0f}')"
   ]
  },
  {
   "cell_type": "code",
   "execution_count": 11,
   "metadata": {},
   "outputs": [
    {
     "output_type": "stream",
     "name": "stdout",
     "text": [
      "Train Accuracy 0.9504158997545168\n",
      "Test Accuracy 0.645565322224587 does not seem right\n",
      "mae $105\n"
     ]
    }
   ],
   "source": [
    "# TODO\n",
    "from sklearn.pipeline import make_pipeline\n",
    "from sklearn.ensemble import RandomForestRegressor\n",
    "\n",
    "# These are the only two changes from the previous cell:\n",
    "# Remove StandardScaler (it's not needed or helpful for trees)\n",
    "# Change the model from LogisticRegression to DecisionTreeClassifier\n",
    "\n",
    "pipeline_random_forest_regressor = make_pipeline(\n",
    "    ce.OneHotEncoder(use_cat_names=True), \n",
    "    SimpleImputer(strategy='mean'), \n",
    "    RandomForestRegressor(random_state=42)\n",
    ")\n",
    "\n",
    "# Fit on train\n",
    "pipeline_random_forest_regressor.fit(X_train, y_train)\n",
    "\n",
    "# Score on train, val\n",
    "print('Train Accuracy', pipeline_random_forest_regressor.score(X_train, y_train))\n",
    "print('Test Accuracy', pipeline_random_forest_regressor.score(X_test, y_pred),\"does not seem right\")\n",
    "\n",
    "# Predict on test\n",
    "y_pred = pipeline_random_forest_regressor.predict(X_test)\n",
    "mae = mean_absolute_error(y_test, y_pred)\n",
    "print(f'mae ${mae:,.0f}')"
   ]
  },
  {
   "source": [
    "Save and load decision tree"
   ],
   "cell_type": "markdown",
   "metadata": {}
  },
  {
   "cell_type": "code",
   "execution_count": 26,
   "metadata": {},
   "outputs": [],
   "source": [
    "# Save decision tree \n",
    "with open('decision_tree_model.pkl','wb') as model_file:\n",
    "    pickle.dump(pipeline_decision_tree, model_file)\n",
    "\n",
    "# 20.1MB file size    "
   ]
  },
  {
   "cell_type": "code",
   "execution_count": 27,
   "metadata": {},
   "outputs": [],
   "source": [
    "# load model\n",
    "with open('decision_tree_model.pkl','rb') as model_file:\n",
    "    loaded_model = pickle.load(model_file)"
   ]
  },
  {
   "cell_type": "code",
   "execution_count": 28,
   "metadata": {},
   "outputs": [
    {
     "output_type": "execute_result",
     "data": {
      "text/plain": [
       "array([100.  ,  67.25])"
      ]
     },
     "metadata": {},
     "execution_count": 28
    }
   ],
   "source": [
    "loaded_model.predict(X_train.iloc[:2,:])\n"
   ]
  },
  {
   "source": [
    "Save and load random forest"
   ],
   "cell_type": "markdown",
   "metadata": {}
  },
  {
   "cell_type": "code",
   "execution_count": 22,
   "metadata": {},
   "outputs": [],
   "source": [
    "# Save random forest \n",
    "with open('random_forest_regressor.pkl','wb') as model_file:\n",
    "    pickle.dump(pipeline_random_forest_regressor, model_file)\n",
    "\n",
    "# 20.1MB file size    "
   ]
  },
  {
   "cell_type": "code",
   "execution_count": 23,
   "metadata": {},
   "outputs": [],
   "source": [
    "# load model\n",
    "with open('random_forest_regressor.pkl','rb') as model_file:\n",
    "    loaded_model = pickle.load(model_file)"
   ]
  },
  {
   "cell_type": "code",
   "execution_count": 24,
   "metadata": {},
   "outputs": [
    {
     "output_type": "execute_result",
     "data": {
      "text/plain": [
       "array([100.  ,  67.25])"
      ]
     },
     "metadata": {},
     "execution_count": 24
    }
   ],
   "source": [
    "loaded_model.predict(X_train.iloc[:2,:])"
   ]
  },
  {
   "cell_type": "code",
   "execution_count": 16,
   "metadata": {},
   "outputs": [
    {
     "output_type": "execute_result",
     "data": {
      "text/plain": [
       "        house_rules_len  bathrooms  maximum_nights is_business_travel_ready  \\\n",
       "169519                3        1.0            1125                        f   \n",
       "102793             1000        2.5             180                        f   \n",
       "69294                 3        1.0            1125                        f   \n",
       "212757               36        1.0            1125                        f   \n",
       "194147                3        3.0              14                        f   \n",
       "\n",
       "        bed_type  longitude property_type  minimum_nights beds_str  \\\n",
       "169519  Real Bed  -73.95477     Apartment               5        2   \n",
       "102793  Real Bed -118.64547         House              30        3   \n",
       "69294   Real Bed  -74.05285     Apartment               1        4   \n",
       "212757  Real Bed -122.30712     Apartment               2        2   \n",
       "194147  Real Bed -117.16584         House               1        1   \n",
       "\n",
       "        host_about_len require_guest_profile_picture  accommodates  \\\n",
       "169519               3                             f             4   \n",
       "102793              16                             f             8   \n",
       "69294               21                             f             8   \n",
       "212757             227                             f             4   \n",
       "194147               3                             f             2   \n",
       "\n",
       "       require_guest_phone_verification instant_bookable  latitude  bedrooms  \\\n",
       "169519                                f                t  40.76775       2.0   \n",
       "102793                                f                f  34.22218       5.0   \n",
       "69294                                 f                f  40.74043       3.0   \n",
       "212757                                f                t  47.61876       1.0   \n",
       "194147                                f                t  32.72300       1.0   \n",
       "\n",
       "        notes_len  interaction_len        room_type  transit_len  access_len  \\\n",
       "169519          3              125  Entire home/apt            3         257   \n",
       "102793          3                3  Entire home/apt          219           3   \n",
       "69294         109               51  Entire home/apt            3          22   \n",
       "212757          3              212  Entire home/apt            3           3   \n",
       "194147          3                3     Private room            3           3   \n",
       "\n",
       "       bedrooms_str  beds          cancellation_policy  \n",
       "169519            2   2.0                     flexible  \n",
       "102793            5   3.0  strict_14_with_grace_period  \n",
       "69294             3   4.0                     flexible  \n",
       "212757            1   2.0                     flexible  \n",
       "194147            1   1.0                     flexible  "
      ],
      "text/html": "<div>\n<style scoped>\n    .dataframe tbody tr th:only-of-type {\n        vertical-align: middle;\n    }\n\n    .dataframe tbody tr th {\n        vertical-align: top;\n    }\n\n    .dataframe thead th {\n        text-align: right;\n    }\n</style>\n<table border=\"1\" class=\"dataframe\">\n  <thead>\n    <tr style=\"text-align: right;\">\n      <th></th>\n      <th>house_rules_len</th>\n      <th>bathrooms</th>\n      <th>maximum_nights</th>\n      <th>is_business_travel_ready</th>\n      <th>bed_type</th>\n      <th>longitude</th>\n      <th>property_type</th>\n      <th>minimum_nights</th>\n      <th>beds_str</th>\n      <th>host_about_len</th>\n      <th>require_guest_profile_picture</th>\n      <th>accommodates</th>\n      <th>require_guest_phone_verification</th>\n      <th>instant_bookable</th>\n      <th>latitude</th>\n      <th>bedrooms</th>\n      <th>notes_len</th>\n      <th>interaction_len</th>\n      <th>room_type</th>\n      <th>transit_len</th>\n      <th>access_len</th>\n      <th>bedrooms_str</th>\n      <th>beds</th>\n      <th>cancellation_policy</th>\n    </tr>\n  </thead>\n  <tbody>\n    <tr>\n      <th>169519</th>\n      <td>3</td>\n      <td>1.0</td>\n      <td>1125</td>\n      <td>f</td>\n      <td>Real Bed</td>\n      <td>-73.95477</td>\n      <td>Apartment</td>\n      <td>5</td>\n      <td>2</td>\n      <td>3</td>\n      <td>f</td>\n      <td>4</td>\n      <td>f</td>\n      <td>t</td>\n      <td>40.76775</td>\n      <td>2.0</td>\n      <td>3</td>\n      <td>125</td>\n      <td>Entire home/apt</td>\n      <td>3</td>\n      <td>257</td>\n      <td>2</td>\n      <td>2.0</td>\n      <td>flexible</td>\n    </tr>\n    <tr>\n      <th>102793</th>\n      <td>1000</td>\n      <td>2.5</td>\n      <td>180</td>\n      <td>f</td>\n      <td>Real Bed</td>\n      <td>-118.64547</td>\n      <td>House</td>\n      <td>30</td>\n      <td>3</td>\n      <td>16</td>\n      <td>f</td>\n      <td>8</td>\n      <td>f</td>\n      <td>f</td>\n      <td>34.22218</td>\n      <td>5.0</td>\n      <td>3</td>\n      <td>3</td>\n      <td>Entire home/apt</td>\n      <td>219</td>\n      <td>3</td>\n      <td>5</td>\n      <td>3.0</td>\n      <td>strict_14_with_grace_period</td>\n    </tr>\n    <tr>\n      <th>69294</th>\n      <td>3</td>\n      <td>1.0</td>\n      <td>1125</td>\n      <td>f</td>\n      <td>Real Bed</td>\n      <td>-74.05285</td>\n      <td>Apartment</td>\n      <td>1</td>\n      <td>4</td>\n      <td>21</td>\n      <td>f</td>\n      <td>8</td>\n      <td>f</td>\n      <td>f</td>\n      <td>40.74043</td>\n      <td>3.0</td>\n      <td>109</td>\n      <td>51</td>\n      <td>Entire home/apt</td>\n      <td>3</td>\n      <td>22</td>\n      <td>3</td>\n      <td>4.0</td>\n      <td>flexible</td>\n    </tr>\n    <tr>\n      <th>212757</th>\n      <td>36</td>\n      <td>1.0</td>\n      <td>1125</td>\n      <td>f</td>\n      <td>Real Bed</td>\n      <td>-122.30712</td>\n      <td>Apartment</td>\n      <td>2</td>\n      <td>2</td>\n      <td>227</td>\n      <td>f</td>\n      <td>4</td>\n      <td>f</td>\n      <td>t</td>\n      <td>47.61876</td>\n      <td>1.0</td>\n      <td>3</td>\n      <td>212</td>\n      <td>Entire home/apt</td>\n      <td>3</td>\n      <td>3</td>\n      <td>1</td>\n      <td>2.0</td>\n      <td>flexible</td>\n    </tr>\n    <tr>\n      <th>194147</th>\n      <td>3</td>\n      <td>3.0</td>\n      <td>14</td>\n      <td>f</td>\n      <td>Real Bed</td>\n      <td>-117.16584</td>\n      <td>House</td>\n      <td>1</td>\n      <td>1</td>\n      <td>3</td>\n      <td>f</td>\n      <td>2</td>\n      <td>f</td>\n      <td>t</td>\n      <td>32.72300</td>\n      <td>1.0</td>\n      <td>3</td>\n      <td>3</td>\n      <td>Private room</td>\n      <td>3</td>\n      <td>3</td>\n      <td>1</td>\n      <td>1.0</td>\n      <td>flexible</td>\n    </tr>\n  </tbody>\n</table>\n</div>"
     },
     "metadata": {},
     "execution_count": 16
    }
   ],
   "source": [
    "X_test.head()"
   ]
  },
  {
   "cell_type": "code",
   "execution_count": 17,
   "metadata": {},
   "outputs": [
    {
     "output_type": "error",
     "ename": "TypeError",
     "evalue": "'(slice(None, 2, None), slice(None, None, None))' is an invalid key",
     "traceback": [
      "\u001b[0;31m---------------------------------------------------------------------------\u001b[0m",
      "\u001b[0;31mTypeError\u001b[0m                                 Traceback (most recent call last)",
      "\u001b[0;32m<ipython-input-17-0166aa093505>\u001b[0m in \u001b[0;36m<module>\u001b[0;34m\u001b[0m\n\u001b[0;32m----> 1\u001b[0;31m \u001b[0mX_train\u001b[0m\u001b[0;34m[\u001b[0m\u001b[0;34m:\u001b[0m\u001b[0;36m2\u001b[0m\u001b[0;34m,\u001b[0m\u001b[0;34m:\u001b[0m\u001b[0;34m]\u001b[0m\u001b[0;34m\u001b[0m\u001b[0;34m\u001b[0m\u001b[0m\n\u001b[0m",
      "\u001b[0;32m~/opt/anaconda3/lib/python3.7/site-packages/pandas/core/frame.py\u001b[0m in \u001b[0;36m__getitem__\u001b[0;34m(self, key)\u001b[0m\n\u001b[1;32m   2900\u001b[0m             \u001b[0;32mif\u001b[0m \u001b[0mself\u001b[0m\u001b[0;34m.\u001b[0m\u001b[0mcolumns\u001b[0m\u001b[0;34m.\u001b[0m\u001b[0mnlevels\u001b[0m \u001b[0;34m>\u001b[0m \u001b[0;36m1\u001b[0m\u001b[0;34m:\u001b[0m\u001b[0;34m\u001b[0m\u001b[0;34m\u001b[0m\u001b[0m\n\u001b[1;32m   2901\u001b[0m                 \u001b[0;32mreturn\u001b[0m \u001b[0mself\u001b[0m\u001b[0;34m.\u001b[0m\u001b[0m_getitem_multilevel\u001b[0m\u001b[0;34m(\u001b[0m\u001b[0mkey\u001b[0m\u001b[0;34m)\u001b[0m\u001b[0;34m\u001b[0m\u001b[0;34m\u001b[0m\u001b[0m\n\u001b[0;32m-> 2902\u001b[0;31m             \u001b[0mindexer\u001b[0m \u001b[0;34m=\u001b[0m \u001b[0mself\u001b[0m\u001b[0;34m.\u001b[0m\u001b[0mcolumns\u001b[0m\u001b[0;34m.\u001b[0m\u001b[0mget_loc\u001b[0m\u001b[0;34m(\u001b[0m\u001b[0mkey\u001b[0m\u001b[0;34m)\u001b[0m\u001b[0;34m\u001b[0m\u001b[0;34m\u001b[0m\u001b[0m\n\u001b[0m\u001b[1;32m   2903\u001b[0m             \u001b[0;32mif\u001b[0m \u001b[0mis_integer\u001b[0m\u001b[0;34m(\u001b[0m\u001b[0mindexer\u001b[0m\u001b[0;34m)\u001b[0m\u001b[0;34m:\u001b[0m\u001b[0;34m\u001b[0m\u001b[0;34m\u001b[0m\u001b[0m\n\u001b[1;32m   2904\u001b[0m                 \u001b[0mindexer\u001b[0m \u001b[0;34m=\u001b[0m \u001b[0;34m[\u001b[0m\u001b[0mindexer\u001b[0m\u001b[0;34m]\u001b[0m\u001b[0;34m\u001b[0m\u001b[0;34m\u001b[0m\u001b[0m\n",
      "\u001b[0;32m~/opt/anaconda3/lib/python3.7/site-packages/pandas/core/indexes/base.py\u001b[0m in \u001b[0;36mget_loc\u001b[0;34m(self, key, method, tolerance)\u001b[0m\n\u001b[1;32m   2893\u001b[0m             \u001b[0mcasted_key\u001b[0m \u001b[0;34m=\u001b[0m \u001b[0mself\u001b[0m\u001b[0;34m.\u001b[0m\u001b[0m_maybe_cast_indexer\u001b[0m\u001b[0;34m(\u001b[0m\u001b[0mkey\u001b[0m\u001b[0;34m)\u001b[0m\u001b[0;34m\u001b[0m\u001b[0;34m\u001b[0m\u001b[0m\n\u001b[1;32m   2894\u001b[0m             \u001b[0;32mtry\u001b[0m\u001b[0;34m:\u001b[0m\u001b[0;34m\u001b[0m\u001b[0;34m\u001b[0m\u001b[0m\n\u001b[0;32m-> 2895\u001b[0;31m                 \u001b[0;32mreturn\u001b[0m \u001b[0mself\u001b[0m\u001b[0;34m.\u001b[0m\u001b[0m_engine\u001b[0m\u001b[0;34m.\u001b[0m\u001b[0mget_loc\u001b[0m\u001b[0;34m(\u001b[0m\u001b[0mcasted_key\u001b[0m\u001b[0;34m)\u001b[0m\u001b[0;34m\u001b[0m\u001b[0;34m\u001b[0m\u001b[0m\n\u001b[0m\u001b[1;32m   2896\u001b[0m             \u001b[0;32mexcept\u001b[0m \u001b[0mKeyError\u001b[0m \u001b[0;32mas\u001b[0m \u001b[0merr\u001b[0m\u001b[0;34m:\u001b[0m\u001b[0;34m\u001b[0m\u001b[0;34m\u001b[0m\u001b[0m\n\u001b[1;32m   2897\u001b[0m                 \u001b[0;32mraise\u001b[0m \u001b[0mKeyError\u001b[0m\u001b[0;34m(\u001b[0m\u001b[0mkey\u001b[0m\u001b[0;34m)\u001b[0m \u001b[0;32mfrom\u001b[0m \u001b[0merr\u001b[0m\u001b[0;34m\u001b[0m\u001b[0;34m\u001b[0m\u001b[0m\n",
      "\u001b[0;32mpandas/_libs/index.pyx\u001b[0m in \u001b[0;36mpandas._libs.index.IndexEngine.get_loc\u001b[0;34m()\u001b[0m\n",
      "\u001b[0;32mpandas/_libs/index.pyx\u001b[0m in \u001b[0;36mpandas._libs.index.IndexEngine.get_loc\u001b[0;34m()\u001b[0m\n",
      "\u001b[0;31mTypeError\u001b[0m: '(slice(None, 2, None), slice(None, None, None))' is an invalid key"
     ]
    }
   ],
   "source": [
    "X_train[:2,:]"
   ]
  },
  {
   "source": [
    "Possible next steps:\n",
    "\n",
    "Cross validation\n",
    "RandomizedSearchCV\n",
    "GridSearchCV\n",
    "\n"
   ],
   "cell_type": "markdown",
   "metadata": {}
  },
  {
   "cell_type": "code",
   "execution_count": null,
   "metadata": {},
   "outputs": [],
   "source": [
    "References"
   ]
  },
  {
   "source": [
    "** Dec 24 ** MVP #2.\n",
    "Decision tree on own-selected few features.\n",
    "\n"
   ],
   "cell_type": "markdown",
   "metadata": {}
  },
  {
   "cell_type": "code",
   "execution_count": 32,
   "metadata": {},
   "outputs": [
    {
     "output_type": "execute_result",
     "data": {
      "text/plain": [
       "['house_rules_len',\n",
       " 'bathrooms',\n",
       " 'maximum_nights',\n",
       " 'is_business_travel_ready',\n",
       " 'bed_type',\n",
       " 'longitude',\n",
       " 'property_type',\n",
       " 'minimum_nights',\n",
       " 'beds_str',\n",
       " 'host_about_len',\n",
       " 'require_guest_profile_picture',\n",
       " 'accommodates',\n",
       " 'require_guest_phone_verification',\n",
       " 'instant_bookable',\n",
       " 'latitude',\n",
       " 'bedrooms',\n",
       " 'notes_len',\n",
       " 'interaction_len',\n",
       " 'room_type',\n",
       " 'transit_len',\n",
       " 'access_len',\n",
       " 'bedrooms_str',\n",
       " 'beds',\n",
       " 'cancellation_policy']"
      ]
     },
     "metadata": {},
     "execution_count": 32
    }
   ],
   "source": [
    "selected_features"
   ]
  },
  {
   "cell_type": "code",
   "execution_count": 34,
   "metadata": {},
   "outputs": [
    {
     "output_type": "execute_result",
     "data": {
      "text/plain": [
       "   house_rules_len  bathrooms  maximum_nights is_business_travel_ready  \\\n",
       "0                3        1.0               7                        f   \n",
       "1              211        2.0              14                        f   \n",
       "2                3        1.0               7                        f   \n",
       "3                3        1.0            1125                        f   \n",
       "4              506        2.0            1125                        f   \n",
       "\n",
       "   bed_type  longitude property_type  minimum_nights beds_str  host_about_len  \\\n",
       "0  Real Bed  -97.69477         House               1        1               3   \n",
       "1  Real Bed  -97.78217         House               1        2               3   \n",
       "2  Real Bed  -97.74691     Apartment               1        2             104   \n",
       "3  Real Bed  -97.72036    Guesthouse               1        1               3   \n",
       "4  Real Bed  -97.73246      Bungalow               2        6              59   \n",
       "\n",
       "  require_guest_profile_picture  accommodates  \\\n",
       "0                             f             2   \n",
       "1                             f             8   \n",
       "2                             f             4   \n",
       "3                             f             2   \n",
       "4                             f            10   \n",
       "\n",
       "  require_guest_phone_verification instant_bookable  latitude  bedrooms  \\\n",
       "0                                f                f  30.22302       1.0   \n",
       "1                                f                f  30.45200       2.0   \n",
       "2                                f                f  30.25483       2.0   \n",
       "3                                f                t  30.34519       0.0   \n",
       "4                                f                t  30.26133       4.0   \n",
       "\n",
       "   notes_len  interaction_len        room_type  transit_len  access_len  \\\n",
       "0          3              110     Private room          378         186   \n",
       "1         44                3  Entire home/apt            3           3   \n",
       "2          3               18  Entire home/apt           31         122   \n",
       "3          3                3  Entire home/apt            3           3   \n",
       "4         40              130  Entire home/apt          587          49   \n",
       "\n",
       "  bedrooms_str  beds cancellation_policy  \n",
       "0            1   1.0            moderate  \n",
       "1            2   2.0            moderate  \n",
       "2            2   2.0            moderate  \n",
       "3            0   1.0            flexible  \n",
       "4            4   6.0            flexible  "
      ],
      "text/html": "<div>\n<style scoped>\n    .dataframe tbody tr th:only-of-type {\n        vertical-align: middle;\n    }\n\n    .dataframe tbody tr th {\n        vertical-align: top;\n    }\n\n    .dataframe thead th {\n        text-align: right;\n    }\n</style>\n<table border=\"1\" class=\"dataframe\">\n  <thead>\n    <tr style=\"text-align: right;\">\n      <th></th>\n      <th>house_rules_len</th>\n      <th>bathrooms</th>\n      <th>maximum_nights</th>\n      <th>is_business_travel_ready</th>\n      <th>bed_type</th>\n      <th>longitude</th>\n      <th>property_type</th>\n      <th>minimum_nights</th>\n      <th>beds_str</th>\n      <th>host_about_len</th>\n      <th>require_guest_profile_picture</th>\n      <th>accommodates</th>\n      <th>require_guest_phone_verification</th>\n      <th>instant_bookable</th>\n      <th>latitude</th>\n      <th>bedrooms</th>\n      <th>notes_len</th>\n      <th>interaction_len</th>\n      <th>room_type</th>\n      <th>transit_len</th>\n      <th>access_len</th>\n      <th>bedrooms_str</th>\n      <th>beds</th>\n      <th>cancellation_policy</th>\n    </tr>\n  </thead>\n  <tbody>\n    <tr>\n      <th>0</th>\n      <td>3</td>\n      <td>1.0</td>\n      <td>7</td>\n      <td>f</td>\n      <td>Real Bed</td>\n      <td>-97.69477</td>\n      <td>House</td>\n      <td>1</td>\n      <td>1</td>\n      <td>3</td>\n      <td>f</td>\n      <td>2</td>\n      <td>f</td>\n      <td>f</td>\n      <td>30.22302</td>\n      <td>1.0</td>\n      <td>3</td>\n      <td>110</td>\n      <td>Private room</td>\n      <td>378</td>\n      <td>186</td>\n      <td>1</td>\n      <td>1.0</td>\n      <td>moderate</td>\n    </tr>\n    <tr>\n      <th>1</th>\n      <td>211</td>\n      <td>2.0</td>\n      <td>14</td>\n      <td>f</td>\n      <td>Real Bed</td>\n      <td>-97.78217</td>\n      <td>House</td>\n      <td>1</td>\n      <td>2</td>\n      <td>3</td>\n      <td>f</td>\n      <td>8</td>\n      <td>f</td>\n      <td>f</td>\n      <td>30.45200</td>\n      <td>2.0</td>\n      <td>44</td>\n      <td>3</td>\n      <td>Entire home/apt</td>\n      <td>3</td>\n      <td>3</td>\n      <td>2</td>\n      <td>2.0</td>\n      <td>moderate</td>\n    </tr>\n    <tr>\n      <th>2</th>\n      <td>3</td>\n      <td>1.0</td>\n      <td>7</td>\n      <td>f</td>\n      <td>Real Bed</td>\n      <td>-97.74691</td>\n      <td>Apartment</td>\n      <td>1</td>\n      <td>2</td>\n      <td>104</td>\n      <td>f</td>\n      <td>4</td>\n      <td>f</td>\n      <td>f</td>\n      <td>30.25483</td>\n      <td>2.0</td>\n      <td>3</td>\n      <td>18</td>\n      <td>Entire home/apt</td>\n      <td>31</td>\n      <td>122</td>\n      <td>2</td>\n      <td>2.0</td>\n      <td>moderate</td>\n    </tr>\n    <tr>\n      <th>3</th>\n      <td>3</td>\n      <td>1.0</td>\n      <td>1125</td>\n      <td>f</td>\n      <td>Real Bed</td>\n      <td>-97.72036</td>\n      <td>Guesthouse</td>\n      <td>1</td>\n      <td>1</td>\n      <td>3</td>\n      <td>f</td>\n      <td>2</td>\n      <td>f</td>\n      <td>t</td>\n      <td>30.34519</td>\n      <td>0.0</td>\n      <td>3</td>\n      <td>3</td>\n      <td>Entire home/apt</td>\n      <td>3</td>\n      <td>3</td>\n      <td>0</td>\n      <td>1.0</td>\n      <td>flexible</td>\n    </tr>\n    <tr>\n      <th>4</th>\n      <td>506</td>\n      <td>2.0</td>\n      <td>1125</td>\n      <td>f</td>\n      <td>Real Bed</td>\n      <td>-97.73246</td>\n      <td>Bungalow</td>\n      <td>2</td>\n      <td>6</td>\n      <td>59</td>\n      <td>f</td>\n      <td>10</td>\n      <td>f</td>\n      <td>t</td>\n      <td>30.26133</td>\n      <td>4.0</td>\n      <td>40</td>\n      <td>130</td>\n      <td>Entire home/apt</td>\n      <td>587</td>\n      <td>49</td>\n      <td>4</td>\n      <td>6.0</td>\n      <td>flexible</td>\n    </tr>\n  </tbody>\n</table>\n</div>"
     },
     "metadata": {},
     "execution_count": 34
    }
   ],
   "source": [
    "df[selected_features].head()"
   ]
  },
  {
   "cell_type": "code",
   "execution_count": 36,
   "metadata": {},
   "outputs": [],
   "source": [
    "path = 'temp/'\n",
    "\n",
    "df[selected_features].to_csv(os.path.join(path,'test.csv'))\n",
    "# df=df[:10000]"
   ]
  },
  {
   "cell_type": "code",
   "execution_count": 37,
   "metadata": {},
   "outputs": [
    {
     "output_type": "execute_result",
     "data": {
      "text/plain": [
       "Real Bed         229073\n",
       "Futon               730\n",
       "Pull-out Sofa       552\n",
       "Airbed              398\n",
       "Couch               197\n",
       "Name: bed_type, dtype: int64"
      ]
     },
     "metadata": {},
     "execution_count": 37
    }
   ],
   "source": [
    "df.bed_type.value_counts()"
   ]
  },
  {
   "cell_type": "code",
   "execution_count": 39,
   "metadata": {},
   "outputs": [
    {
     "output_type": "execute_result",
     "data": {
      "text/plain": [
       "f    226930\n",
       "t      4020\n",
       "Name: require_guest_profile_picture, dtype: int64"
      ]
     },
     "metadata": {},
     "execution_count": 39
    }
   ],
   "source": [
    "df.require_guest_profile_picture.value_counts()"
   ]
  },
  {
   "cell_type": "code",
   "execution_count": 40,
   "metadata": {},
   "outputs": [
    {
     "output_type": "execute_result",
     "data": {
      "text/plain": [
       "f    225601\n",
       "t      5349\n",
       "Name: require_guest_phone_verification, dtype: int64"
      ]
     },
     "metadata": {},
     "execution_count": 40
    }
   ],
   "source": [
    "df.require_guest_phone_verification.value_counts()"
   ]
  },
  {
   "source": [
    "**drop the following features**\n",
    "\n",
    "* is_business_travel_ready\n",
    "* require_guest_profile_picture\n",
    "* require_guest_phone_verification\n",
    "\n",
    "* host_about_len\n",
    "* notes_len\n",
    "* interaction_len\n",
    "* access_len # what is this?\n",
    "\n",
    "let's call this 'elminations_dec24' for that lack of a better label\n"
   ],
   "cell_type": "markdown",
   "metadata": {}
  },
  {
   "cell_type": "code",
   "execution_count": 90,
   "metadata": {},
   "outputs": [],
   "source": [
    "# 3. Arrange X features matrix & y target vector\n",
    "\n",
    "target = ['price']\n",
    "\n",
    "# features: original 39 (Q: how was this 39 determined?)\n",
    "\n",
    "\n",
    "\n",
    "# sparse_features 6\n",
    "\n",
    "# unusable_features 1\n",
    "\n",
    "# duplicative location feaatures\n",
    "\n",
    "# duplicative_location_features  10\n",
    "\n",
    "eliminations_dec24 = ['is_business_travel_ready','require_guest_profile_picture','require_guest_phone_verification','host_about_len','notes_len','interaction_len',\n",
    "'access_len','house_rules_len','beds_str','bedrooms_str']\n",
    "\n",
    "#numeric_columns\n",
    "# nonnumeric_columns\n",
    "\n",
    "# df[nonnumeric_columns] = df[nonnumeric_columns].astype(str)\n",
    "\n",
    "# selected_features = list(set(features) - set(sparse_features))\n",
    "# selected_features = list(set(selected_features) - set(unusable_features))\n",
    "# selected_features = list(set(selected_features) - set(duplicative_location_features))\n",
    "selected_features = list(set(selected_features) - set(eliminations_dec24))\n",
    "\n",
    "df = df[target + selected_features]\n",
    "\n",
    "df.dropna(inplace=True)"
   ]
  },
  {
   "cell_type": "code",
   "execution_count": 93,
   "metadata": {},
   "outputs": [
    {
     "output_type": "execute_result",
     "data": {
      "text/plain": [
       "Index(['price', 'minimum_nights', 'transit_len', 'room_type', 'accommodates',\n",
       "       'longitude', 'bedrooms', 'instant_bookable', 'beds', 'bathrooms',\n",
       "       'maximum_nights', 'cancellation_policy', 'bed_type', 'latitude',\n",
       "       'property_type'],\n",
       "      dtype='object')"
      ]
     },
     "metadata": {},
     "execution_count": 93
    }
   ],
   "source": [
    "df.columns"
   ]
  },
  {
   "cell_type": "code",
   "execution_count": 101,
   "metadata": {},
   "outputs": [
    {
     "output_type": "execute_result",
     "data": {
      "text/plain": [
       "15"
      ]
     },
     "metadata": {},
     "execution_count": 101
    }
   ],
   "source": [
    "len(df.columns)"
   ]
  },
  {
   "cell_type": "code",
   "execution_count": 94,
   "metadata": {},
   "outputs": [
    {
     "output_type": "stream",
     "name": "stdout",
     "text": [
      "Train Accuracy 0.9999404436975107\n",
      "Test Accuracy 0.48448725173098806 does not seem right\n",
      "mae $131\n",
      "ran in 8.83 seconds\n"
     ]
    }
   ],
   "source": [
    "from time import time\n",
    "st = time()\n",
    "y = df[target]\n",
    "X = df[selected_features]\n",
    "\n",
    "X_train, X_test, y_train, y_test = train_test_split(X,y, test_size=.2, random_state=42)\n",
    "\n",
    "pipeline_decision_tree = make_pipeline(\n",
    "    ce.OneHotEncoder(use_cat_names=True), \n",
    "    SimpleImputer(strategy='mean'), \n",
    "    DecisionTreeRegressor(random_state=42)\n",
    ")\n",
    "\n",
    "# Fit on train\n",
    "pipeline_decision_tree.fit(X_train, y_train)\n",
    "\n",
    "# Score on train, val\n",
    "print('Train Accuracy', pipeline_decision_tree.score(X_train, y_train))\n",
    "print('Test Accuracy', pipeline_decision_tree.score(X_test, y_pred),\"does not seem right\")\n",
    "\n",
    "# Predict on test\n",
    "y_pred = pipeline_decision_tree.predict(X_test)\n",
    "mae = mean_absolute_error(y_test, y_pred)\n",
    "print(f'mae ${mae:,.0f}')\n",
    "et = time()\n",
    "print('ran in {:.2f} seconds'.format(et-st))"
   ]
  },
  {
   "cell_type": "code",
   "execution_count": 95,
   "metadata": {},
   "outputs": [
    {
     "output_type": "stream",
     "name": "stdout",
     "text": [
      "Train Accuracy 0.942140989166887\n",
      "Test Accuracy 0.7201920248469412 does not seem right\n",
      "mae $107\n",
      "ran in 290.92 seconds\n"
     ]
    }
   ],
   "source": [
    "from time import time\n",
    "st = time()\n",
    "y = df[target]\n",
    "X = df[selected_features]\n",
    "\n",
    "X_train, X_test, y_train, y_test = train_test_split(X,y, test_size=.2, random_state=42)\n",
    "\n",
    "pipeline_random_forest_regressor = make_pipeline(\n",
    "    ce.OneHotEncoder(use_cat_names=True), \n",
    "    SimpleImputer(strategy='mean'), \n",
    "    RandomForestRegressor(random_state=42)\n",
    ")\n",
    "\n",
    "# Fit on train\n",
    "pipeline_random_forest_regressor.fit(X_train, y_train)\n",
    "\n",
    "# Score on train, val\n",
    "print('Train Accuracy', pipeline_random_forest_regressor.score(X_train, y_train))\n",
    "print('Test Accuracy', pipeline_random_forest_regressor.score(X_test, y_pred),\"does not seem right\")\n",
    "\n",
    "# Predict on test\n",
    "y_pred = pipeline_random_forest_regressor.predict(X_test)\n",
    "mae = mean_absolute_error(y_test, y_pred)\n",
    "print(f'mae ${mae:,.0f}')\n",
    "et = time()\n",
    "print('ran in {:.2f} seconds'.format(et-st))"
   ]
  },
  {
   "cell_type": "code",
   "execution_count": 96,
   "metadata": {},
   "outputs": [
    {
     "output_type": "execute_result",
     "data": {
      "text/plain": [
       "Pipeline(steps=[('onehotencoder',\n",
       "                 OneHotEncoder(cols=['room_type', 'instant_bookable',\n",
       "                                     'cancellation_policy', 'bed_type',\n",
       "                                     'property_type'],\n",
       "                               use_cat_names=True)),\n",
       "                ('simpleimputer', SimpleImputer()),\n",
       "                ('randomforestregressor',\n",
       "                 RandomForestRegressor(random_state=42))])"
      ]
     },
     "metadata": {},
     "execution_count": 96
    }
   ],
   "source": [
    "pipeline_random_forest_regressor"
   ]
  },
  {
   "cell_type": "code",
   "execution_count": 97,
   "metadata": {},
   "outputs": [],
   "source": [
    "# Save random forest \n",
    "with open('random_forest_regressor_fewer_features.pkl','wb') as model_file:\n",
    "    pickle.dump(pipeline_random_forest_regressor, model_file)\n",
    "\n",
    "# # 1.31GB file size    \n",
    "\n",
    "# Save random forest \n",
    "with open('decision_tree_model_fewer_features.pkl','wb') as model_file:\n",
    "    pickle.dump(pipeline_decision_tree, model_file)\n",
    "\n",
    "# 20.3MB file size    "
   ]
  },
  {
   "cell_type": "code",
   "execution_count": 98,
   "metadata": {},
   "outputs": [
    {
     "output_type": "stream",
     "name": "stdout",
     "text": [
      "mae $107\nran in 10.50 seconds\n"
     ]
    }
   ],
   "source": [
    "# load model\n",
    "st = time()\n",
    "with open('random_forest_regressor_fewer_features.pkl','rb') as model_file:\n",
    "    loaded_model_2 = pickle.load(model_file)\n",
    "\n",
    "y_pred = loaded_model_2.predict(X_test)\n",
    "mae = mean_absolute_error(y_test, y_pred)\n",
    "print(f'mae ${mae:,.0f}')\n",
    "et = time()\n",
    "print('ran in {:.2f} seconds'.format(et-st))\n"
   ]
  },
  {
   "cell_type": "code",
   "execution_count": 59,
   "metadata": {},
   "outputs": [
    {
     "output_type": "stream",
     "name": "stdout",
     "text": [
      "mae $107\nran in 2971.03 seconds\n"
     ]
    }
   ],
   "source": []
  },
  {
   "cell_type": "code",
   "execution_count": 99,
   "metadata": {},
   "outputs": [
    {
     "output_type": "execute_result",
     "data": {
      "text/plain": [
       "        minimum_nights  transit_len        room_type  accommodates  longitude  \\\n",
       "39931                1          110  Entire home/apt             5  -82.98802   \n",
       "217369              30          287  Entire home/apt             3 -122.34084   \n",
       "153008               1            3  Entire home/apt             4  -73.94023   \n",
       "180362               3           63  Entire home/apt            10  -71.22206   \n",
       "86132               31          345  Entire home/apt             3 -118.26353   \n",
       "\n",
       "        bedrooms instant_bookable  beds  bathrooms  maximum_nights  \\\n",
       "39931        2.0                f   2.0        1.0            1125   \n",
       "217369       1.0                t   1.0        1.0            1125   \n",
       "153008       2.0                t   2.0        1.5              30   \n",
       "180362       5.0                f   5.0        2.5            1125   \n",
       "86132        1.0                t   2.0        1.0             365   \n",
       "\n",
       "                cancellation_policy  bed_type  latitude       property_type  \n",
       "39931   strict_14_with_grace_period  Real Bed  39.95069         Condominium  \n",
       "217369  strict_14_with_grace_period  Real Bed  47.66101  Serviced apartment  \n",
       "153008                     flexible  Real Bed  40.82495           Apartment  \n",
       "180362                     moderate  Real Bed  41.64919               House  \n",
       "86132   strict_14_with_grace_period  Real Bed  34.03090           Apartment  "
      ],
      "text/html": "<div>\n<style scoped>\n    .dataframe tbody tr th:only-of-type {\n        vertical-align: middle;\n    }\n\n    .dataframe tbody tr th {\n        vertical-align: top;\n    }\n\n    .dataframe thead th {\n        text-align: right;\n    }\n</style>\n<table border=\"1\" class=\"dataframe\">\n  <thead>\n    <tr style=\"text-align: right;\">\n      <th></th>\n      <th>minimum_nights</th>\n      <th>transit_len</th>\n      <th>room_type</th>\n      <th>accommodates</th>\n      <th>longitude</th>\n      <th>bedrooms</th>\n      <th>instant_bookable</th>\n      <th>beds</th>\n      <th>bathrooms</th>\n      <th>maximum_nights</th>\n      <th>cancellation_policy</th>\n      <th>bed_type</th>\n      <th>latitude</th>\n      <th>property_type</th>\n    </tr>\n  </thead>\n  <tbody>\n    <tr>\n      <th>39931</th>\n      <td>1</td>\n      <td>110</td>\n      <td>Entire home/apt</td>\n      <td>5</td>\n      <td>-82.98802</td>\n      <td>2.0</td>\n      <td>f</td>\n      <td>2.0</td>\n      <td>1.0</td>\n      <td>1125</td>\n      <td>strict_14_with_grace_period</td>\n      <td>Real Bed</td>\n      <td>39.95069</td>\n      <td>Condominium</td>\n    </tr>\n    <tr>\n      <th>217369</th>\n      <td>30</td>\n      <td>287</td>\n      <td>Entire home/apt</td>\n      <td>3</td>\n      <td>-122.34084</td>\n      <td>1.0</td>\n      <td>t</td>\n      <td>1.0</td>\n      <td>1.0</td>\n      <td>1125</td>\n      <td>strict_14_with_grace_period</td>\n      <td>Real Bed</td>\n      <td>47.66101</td>\n      <td>Serviced apartment</td>\n    </tr>\n    <tr>\n      <th>153008</th>\n      <td>1</td>\n      <td>3</td>\n      <td>Entire home/apt</td>\n      <td>4</td>\n      <td>-73.94023</td>\n      <td>2.0</td>\n      <td>t</td>\n      <td>2.0</td>\n      <td>1.5</td>\n      <td>30</td>\n      <td>flexible</td>\n      <td>Real Bed</td>\n      <td>40.82495</td>\n      <td>Apartment</td>\n    </tr>\n    <tr>\n      <th>180362</th>\n      <td>3</td>\n      <td>63</td>\n      <td>Entire home/apt</td>\n      <td>10</td>\n      <td>-71.22206</td>\n      <td>5.0</td>\n      <td>f</td>\n      <td>5.0</td>\n      <td>2.5</td>\n      <td>1125</td>\n      <td>moderate</td>\n      <td>Real Bed</td>\n      <td>41.64919</td>\n      <td>House</td>\n    </tr>\n    <tr>\n      <th>86132</th>\n      <td>31</td>\n      <td>345</td>\n      <td>Entire home/apt</td>\n      <td>3</td>\n      <td>-118.26353</td>\n      <td>1.0</td>\n      <td>t</td>\n      <td>2.0</td>\n      <td>1.0</td>\n      <td>365</td>\n      <td>strict_14_with_grace_period</td>\n      <td>Real Bed</td>\n      <td>34.03090</td>\n      <td>Apartment</td>\n    </tr>\n  </tbody>\n</table>\n</div>"
     },
     "metadata": {},
     "execution_count": 99
    }
   ],
   "source": [
    "# for testing\n",
    "X_train.shape\n",
    "X_train.head()"
   ]
  },
  {
   "cell_type": "code",
   "execution_count": 100,
   "metadata": {},
   "outputs": [
    {
     "output_type": "execute_result",
     "data": {
      "text/plain": [
       "(184760, 14)"
      ]
     },
     "metadata": {},
     "execution_count": 100
    }
   ],
   "source": [
    "\n",
    "X_train.shape"
   ]
  },
  {
   "cell_type": "code",
   "execution_count": 103,
   "metadata": {},
   "outputs": [],
   "source": [
    "path = 'temp/'\n",
    "X_train[:100].to_csv(os.path.join(path,'X_train_100rows.csv'))\n"
   ]
  },
  {
   "cell_type": "code",
   "execution_count": 104,
   "metadata": {},
   "outputs": [],
   "source": [
    "test = pd.read_csv(\n",
    "        '/Users/jasimrashid/Projects/DS-Unit-4-Build-Week-4-Airbnb/temp/x_train_100rows.csv', index_col=False)\n",
    "    "
   ]
  },
  {
   "cell_type": "code",
   "execution_count": 105,
   "metadata": {},
   "outputs": [],
   "source": [
    "del test['Unnamed: 0']"
   ]
  },
  {
   "cell_type": "code",
   "execution_count": 115,
   "metadata": {},
   "outputs": [
    {
     "output_type": "execute_result",
     "data": {
      "text/plain": [
       "Index(['minimum_nights', 'transit_len', 'room_type', 'accommodates',\n",
       "       'longitude', 'bedrooms', 'instant_bookable', 'beds', 'bathrooms',\n",
       "       'maximum_nights', 'cancellation_policy', 'bed_type', 'latitude',\n",
       "       'property_type'],\n",
       "      dtype='object')"
      ]
     },
     "metadata": {},
     "execution_count": 115
    }
   ],
   "source": [
    "X_train.columns"
   ]
  },
  {
   "cell_type": "code",
   "execution_count": 107,
   "metadata": {},
   "outputs": [
    {
     "output_type": "execute_result",
     "data": {
      "text/plain": [
       "    minimum_nights  transit_len        room_type  accommodates  longitude  \\\n",
       "0                1          110  Entire home/apt             5  -82.98802   \n",
       "1               30          287  Entire home/apt             3 -122.34084   \n",
       "2                1            3  Entire home/apt             4  -73.94023   \n",
       "3                3           63  Entire home/apt            10  -71.22206   \n",
       "4               31          345  Entire home/apt             3 -118.26353   \n",
       "..             ...          ...              ...           ...        ...   \n",
       "95               3          754  Entire home/apt             6 -117.90609   \n",
       "96               1          430     Private room             2  -73.96032   \n",
       "97               1            3     Private room             1 -117.07125   \n",
       "98               3          182  Entire home/apt            10  -86.67337   \n",
       "99               1          310     Private room             3 -122.62293   \n",
       "\n",
       "    bedrooms instant_bookable  beds  bathrooms  maximum_nights  \\\n",
       "0        2.0                f   2.0        1.0            1125   \n",
       "1        1.0                t   1.0        1.0            1125   \n",
       "2        2.0                t   2.0        1.5              30   \n",
       "3        5.0                f   5.0        2.5            1125   \n",
       "4        1.0                t   2.0        1.0             365   \n",
       "..       ...              ...   ...        ...             ...   \n",
       "95       2.0                t   3.0        1.0              28   \n",
       "96       1.0                t   1.0        1.0              30   \n",
       "97       1.0                t   0.0        1.5            1125   \n",
       "98       3.0                t   7.0        2.0               7   \n",
       "99       1.0                t   1.0        1.5            1125   \n",
       "\n",
       "            cancellation_policy  bed_type  latitude       property_type  \n",
       "0   strict_14_with_grace_period  Real Bed  39.95069         Condominium  \n",
       "1   strict_14_with_grace_period  Real Bed  47.66101  Serviced apartment  \n",
       "2                      flexible  Real Bed  40.82495           Apartment  \n",
       "3                      moderate  Real Bed  41.64919               House  \n",
       "4   strict_14_with_grace_period  Real Bed  34.03090           Apartment  \n",
       "..                          ...       ...       ...                 ...  \n",
       "95  strict_14_with_grace_period  Real Bed  33.98681         Condominium  \n",
       "96                     moderate  Real Bed  40.70910           Apartment  \n",
       "97                     moderate  Real Bed  32.79082               House  \n",
       "98  strict_14_with_grace_period  Real Bed  36.16374               House  \n",
       "99                     moderate  Real Bed  45.50310      Boutique hotel  \n",
       "\n",
       "[100 rows x 14 columns]"
      ],
      "text/html": "<div>\n<style scoped>\n    .dataframe tbody tr th:only-of-type {\n        vertical-align: middle;\n    }\n\n    .dataframe tbody tr th {\n        vertical-align: top;\n    }\n\n    .dataframe thead th {\n        text-align: right;\n    }\n</style>\n<table border=\"1\" class=\"dataframe\">\n  <thead>\n    <tr style=\"text-align: right;\">\n      <th></th>\n      <th>minimum_nights</th>\n      <th>transit_len</th>\n      <th>room_type</th>\n      <th>accommodates</th>\n      <th>longitude</th>\n      <th>bedrooms</th>\n      <th>instant_bookable</th>\n      <th>beds</th>\n      <th>bathrooms</th>\n      <th>maximum_nights</th>\n      <th>cancellation_policy</th>\n      <th>bed_type</th>\n      <th>latitude</th>\n      <th>property_type</th>\n    </tr>\n  </thead>\n  <tbody>\n    <tr>\n      <th>0</th>\n      <td>1</td>\n      <td>110</td>\n      <td>Entire home/apt</td>\n      <td>5</td>\n      <td>-82.98802</td>\n      <td>2.0</td>\n      <td>f</td>\n      <td>2.0</td>\n      <td>1.0</td>\n      <td>1125</td>\n      <td>strict_14_with_grace_period</td>\n      <td>Real Bed</td>\n      <td>39.95069</td>\n      <td>Condominium</td>\n    </tr>\n    <tr>\n      <th>1</th>\n      <td>30</td>\n      <td>287</td>\n      <td>Entire home/apt</td>\n      <td>3</td>\n      <td>-122.34084</td>\n      <td>1.0</td>\n      <td>t</td>\n      <td>1.0</td>\n      <td>1.0</td>\n      <td>1125</td>\n      <td>strict_14_with_grace_period</td>\n      <td>Real Bed</td>\n      <td>47.66101</td>\n      <td>Serviced apartment</td>\n    </tr>\n    <tr>\n      <th>2</th>\n      <td>1</td>\n      <td>3</td>\n      <td>Entire home/apt</td>\n      <td>4</td>\n      <td>-73.94023</td>\n      <td>2.0</td>\n      <td>t</td>\n      <td>2.0</td>\n      <td>1.5</td>\n      <td>30</td>\n      <td>flexible</td>\n      <td>Real Bed</td>\n      <td>40.82495</td>\n      <td>Apartment</td>\n    </tr>\n    <tr>\n      <th>3</th>\n      <td>3</td>\n      <td>63</td>\n      <td>Entire home/apt</td>\n      <td>10</td>\n      <td>-71.22206</td>\n      <td>5.0</td>\n      <td>f</td>\n      <td>5.0</td>\n      <td>2.5</td>\n      <td>1125</td>\n      <td>moderate</td>\n      <td>Real Bed</td>\n      <td>41.64919</td>\n      <td>House</td>\n    </tr>\n    <tr>\n      <th>4</th>\n      <td>31</td>\n      <td>345</td>\n      <td>Entire home/apt</td>\n      <td>3</td>\n      <td>-118.26353</td>\n      <td>1.0</td>\n      <td>t</td>\n      <td>2.0</td>\n      <td>1.0</td>\n      <td>365</td>\n      <td>strict_14_with_grace_period</td>\n      <td>Real Bed</td>\n      <td>34.03090</td>\n      <td>Apartment</td>\n    </tr>\n    <tr>\n      <th>...</th>\n      <td>...</td>\n      <td>...</td>\n      <td>...</td>\n      <td>...</td>\n      <td>...</td>\n      <td>...</td>\n      <td>...</td>\n      <td>...</td>\n      <td>...</td>\n      <td>...</td>\n      <td>...</td>\n      <td>...</td>\n      <td>...</td>\n      <td>...</td>\n    </tr>\n    <tr>\n      <th>95</th>\n      <td>3</td>\n      <td>754</td>\n      <td>Entire home/apt</td>\n      <td>6</td>\n      <td>-117.90609</td>\n      <td>2.0</td>\n      <td>t</td>\n      <td>3.0</td>\n      <td>1.0</td>\n      <td>28</td>\n      <td>strict_14_with_grace_period</td>\n      <td>Real Bed</td>\n      <td>33.98681</td>\n      <td>Condominium</td>\n    </tr>\n    <tr>\n      <th>96</th>\n      <td>1</td>\n      <td>430</td>\n      <td>Private room</td>\n      <td>2</td>\n      <td>-73.96032</td>\n      <td>1.0</td>\n      <td>t</td>\n      <td>1.0</td>\n      <td>1.0</td>\n      <td>30</td>\n      <td>moderate</td>\n      <td>Real Bed</td>\n      <td>40.70910</td>\n      <td>Apartment</td>\n    </tr>\n    <tr>\n      <th>97</th>\n      <td>1</td>\n      <td>3</td>\n      <td>Private room</td>\n      <td>1</td>\n      <td>-117.07125</td>\n      <td>1.0</td>\n      <td>t</td>\n      <td>0.0</td>\n      <td>1.5</td>\n      <td>1125</td>\n      <td>moderate</td>\n      <td>Real Bed</td>\n      <td>32.79082</td>\n      <td>House</td>\n    </tr>\n    <tr>\n      <th>98</th>\n      <td>3</td>\n      <td>182</td>\n      <td>Entire home/apt</td>\n      <td>10</td>\n      <td>-86.67337</td>\n      <td>3.0</td>\n      <td>t</td>\n      <td>7.0</td>\n      <td>2.0</td>\n      <td>7</td>\n      <td>strict_14_with_grace_period</td>\n      <td>Real Bed</td>\n      <td>36.16374</td>\n      <td>House</td>\n    </tr>\n    <tr>\n      <th>99</th>\n      <td>1</td>\n      <td>310</td>\n      <td>Private room</td>\n      <td>3</td>\n      <td>-122.62293</td>\n      <td>1.0</td>\n      <td>t</td>\n      <td>1.0</td>\n      <td>1.5</td>\n      <td>1125</td>\n      <td>moderate</td>\n      <td>Real Bed</td>\n      <td>45.50310</td>\n      <td>Boutique hotel</td>\n    </tr>\n  </tbody>\n</table>\n<p>100 rows × 14 columns</p>\n</div>"
     },
     "metadata": {},
     "execution_count": 107
    }
   ],
   "source": [
    "test"
   ]
  },
  {
   "cell_type": "code",
   "execution_count": 108,
   "metadata": {},
   "outputs": [
    {
     "output_type": "execute_result",
     "data": {
      "text/plain": [
       "Index(['minimum_nights', 'transit_len', 'room_type', 'accommodates',\n",
       "       'longitude', 'bedrooms', 'instant_bookable', 'beds', 'bathrooms',\n",
       "       'maximum_nights', 'cancellation_policy', 'bed_type', 'latitude',\n",
       "       'property_type'],\n",
       "      dtype='object')"
      ]
     },
     "metadata": {},
     "execution_count": 108
    }
   ],
   "source": [
    "X_train.columns"
   ]
  },
  {
   "cell_type": "code",
   "execution_count": null,
   "metadata": {},
   "outputs": [],
   "source": [
    "# input form variables\n",
    "\n",
    "    # longitude = request.form['longitude']\n",
    "    # latitude = request.form['latitude']\n",
    "\n",
    "    # minimum_nights = request.form['minimum_nights']\n",
    "    # maximum_nights = int(request.form['maximum_nights'])\n",
    "    # property_type = request.form['property_type']\n",
    "    # room_type = request.form['room_type']\n",
    "    # bathrooms = int(request.form['bathrooms'])\n",
    "    # accommodates = request.form['accommodates']\n",
    "    # bedrooms = int(request.form['bedrooms'])\n",
    "    # beds = int(request.form['beds'])\n",
    "    # bed_type = request.form['bed_type']\n",
    "    # transit_len = int(request.form['transit_len'])\n",
    "    # instant_bookable = request.form['instant_bookable']\n",
    "    # cancellation_policy = request.form['cancellation_policy']"
   ]
  },
  {
   "cell_type": "code",
   "execution_count": 110,
   "metadata": {},
   "outputs": [
    {
     "output_type": "execute_result",
     "data": {
      "text/plain": [
       "        latitude  longitude\n",
       "39931   39.95069  -82.98802\n",
       "217369  47.66101 -122.34084\n",
       "153008  40.82495  -73.94023\n",
       "180362  41.64919  -71.22206\n",
       "86132   34.03090 -118.26353\n",
       "...          ...        ...\n",
       "120860  40.79323  -73.97267\n",
       "104426  34.06525 -118.39569\n",
       "132975  40.71780  -73.95595\n",
       "147923  40.76457  -73.97518\n",
       "122986  40.71419  -73.95042\n",
       "\n",
       "[184760 rows x 2 columns]"
      ],
      "text/html": "<div>\n<style scoped>\n    .dataframe tbody tr th:only-of-type {\n        vertical-align: middle;\n    }\n\n    .dataframe tbody tr th {\n        vertical-align: top;\n    }\n\n    .dataframe thead th {\n        text-align: right;\n    }\n</style>\n<table border=\"1\" class=\"dataframe\">\n  <thead>\n    <tr style=\"text-align: right;\">\n      <th></th>\n      <th>latitude</th>\n      <th>longitude</th>\n    </tr>\n  </thead>\n  <tbody>\n    <tr>\n      <th>39931</th>\n      <td>39.95069</td>\n      <td>-82.98802</td>\n    </tr>\n    <tr>\n      <th>217369</th>\n      <td>47.66101</td>\n      <td>-122.34084</td>\n    </tr>\n    <tr>\n      <th>153008</th>\n      <td>40.82495</td>\n      <td>-73.94023</td>\n    </tr>\n    <tr>\n      <th>180362</th>\n      <td>41.64919</td>\n      <td>-71.22206</td>\n    </tr>\n    <tr>\n      <th>86132</th>\n      <td>34.03090</td>\n      <td>-118.26353</td>\n    </tr>\n    <tr>\n      <th>...</th>\n      <td>...</td>\n      <td>...</td>\n    </tr>\n    <tr>\n      <th>120860</th>\n      <td>40.79323</td>\n      <td>-73.97267</td>\n    </tr>\n    <tr>\n      <th>104426</th>\n      <td>34.06525</td>\n      <td>-118.39569</td>\n    </tr>\n    <tr>\n      <th>132975</th>\n      <td>40.71780</td>\n      <td>-73.95595</td>\n    </tr>\n    <tr>\n      <th>147923</th>\n      <td>40.76457</td>\n      <td>-73.97518</td>\n    </tr>\n    <tr>\n      <th>122986</th>\n      <td>40.71419</td>\n      <td>-73.95042</td>\n    </tr>\n  </tbody>\n</table>\n<p>184760 rows × 2 columns</p>\n</div>"
     },
     "metadata": {},
     "execution_count": 110
    }
   ],
   "source": [
    "X_train[['latitude','longitude']]"
   ]
  },
  {
   "cell_type": "code",
   "execution_count": null,
   "metadata": {},
   "outputs": [],
   "source": [
    "# Austin\n",
    "latitude = 30.2672\n",
    "longitude = 97.7431"
   ]
  },
  {
   "cell_type": "code",
   "execution_count": 117,
   "metadata": {},
   "outputs": [
    {
     "output_type": "execute_result",
     "data": {
      "text/plain": [
       "Index(['price', 'minimum_nights', 'transit_len', 'room_type', 'accommodates',\n",
       "       'longitude', 'bedrooms', 'instant_bookable', 'beds', 'bathrooms',\n",
       "       'maximum_nights', 'cancellation_policy', 'bed_type', 'latitude',\n",
       "       'property_type'],\n",
       "      dtype='object')"
      ]
     },
     "metadata": {},
     "execution_count": 117
    }
   ],
   "source": [
    "df.columns"
   ]
  },
  {
   "cell_type": "code",
   "execution_count": 119,
   "metadata": {},
   "outputs": [],
   "source": [
    "path = 'data/'\n",
    "temp = pd.read_csv(os.path.join(path,'airbnb_listings_usa_cycle_1.csv'))"
   ]
  },
  {
   "cell_type": "code",
   "execution_count": 121,
   "metadata": {},
   "outputs": [
    {
     "output_type": "execute_result",
     "data": {
      "text/plain": [
       "array(['Austin', 'Boston', 'Broward', 'Cambridge', 'Chicago',\n",
       "       'Twin Cities', 'Clark CO', 'Columbus', 'Denver', 'Hawaii',\n",
       "       'Jersey City', 'New York City', 'Los Angeles', 'Oakland',\n",
       "       'Nashville', 'New Orleans', 'Santa Clara', 'Portland',\n",
       "       'Rhode Island', 'Salem', 'San Diego', 'San Francisco', 'Seattle',\n",
       "       'Washington DC'], dtype=object)"
      ]
     },
     "metadata": {},
     "execution_count": 121
    }
   ],
   "source": [
    "temp.metro_area.unique()"
   ]
  },
  {
   "cell_type": "code",
   "execution_count": null,
   "metadata": {},
   "outputs": [],
   "source": []
  }
 ]
}