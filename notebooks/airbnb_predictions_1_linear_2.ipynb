{
 "metadata": {
  "language_info": {
   "codemirror_mode": {
    "name": "ipython",
    "version": 3
   },
   "file_extension": ".py",
   "mimetype": "text/x-python",
   "name": "python",
   "nbconvert_exporter": "python",
   "pygments_lexer": "ipython3",
   "version": "3.7.6-final"
  },
  "orig_nbformat": 2,
  "kernelspec": {
   "name": "python37664bitbaseconda062aaadf6fe649f9beb295b82a5e77a6",
   "display_name": "Python 3.7.6 64-bit ('base': conda)"
  }
 },
 "nbformat": 4,
 "nbformat_minor": 2,
 "cells": [
  {
   "source": [
    "### airbnb_predictions_1_linear (drop lat/long geographical features) ###"
   ],
   "cell_type": "markdown",
   "metadata": {}
  },
  {
   "cell_type": "code",
   "execution_count": 151,
   "metadata": {},
   "outputs": [],
   "source": [
    "\n",
    "import pandas as pd\n",
    "import os\n",
    "import seaborn as sns\n",
    "import pickle\n",
    "from time import time\n",
    "from sklearn.linear_model import LinearRegression\n",
    "path = 'data/'\n",
    "pd.set_option('display.max_rows', 40)\n",
    "pd.set_option('display.max_columns', 100)\n",
    "\n",
    "df = pd.read_csv(os.path.join(path,'airbnb_listings_usa_cycle_1.csv'))\n",
    "\n",
    "# df=df[:10000]"
   ]
  },
  {
   "cell_type": "code",
   "execution_count": 152,
   "metadata": {},
   "outputs": [
    {
     "output_type": "execute_result",
     "data": {
      "text/plain": [
       "array(['Austin', 'Boston', 'Broward', 'Cambridge', 'Chicago',\n",
       "       'Twin Cities', 'Clark CO', 'Columbus', 'Denver', 'Hawaii',\n",
       "       'Jersey City', 'New York City', 'Los Angeles', 'Oakland',\n",
       "       'Nashville', 'New Orleans', 'Santa Clara', 'Portland',\n",
       "       'Rhode Island', 'Salem', 'San Diego', 'San Francisco', 'Seattle',\n",
       "       'Washington DC'], dtype=object)"
      ]
     },
     "metadata": {},
     "execution_count": 152
    }
   ],
   "source": [
    "df.metro_area.unique()"
   ]
  },
  {
   "cell_type": "code",
   "execution_count": 153,
   "metadata": {},
   "outputs": [],
   "source": [
    "# 3. Arrange X features matrix & y target vector\n",
    "\n",
    "target = ['price']\n",
    "\n",
    "features = ['host_response_time','host_response_rate','host_acceptance_rate',\n",
    "'street','neighbourhood','neighbourhood_cleansed','neighbourhood_group_cleansed','city','state','zipcode','market','smart_location','latitude','longitude','property_type','room_type','accommodates','bathrooms','bedrooms','beds','bed_type','amenities','square_feet','minimum_nights','maximum_nights','instant_bookable','is_business_travel_ready','cancellation_policy','require_guest_profile_picture','require_guest_phone_verification','notes_len','transit_len','access_len','interaction_len','house_rules_len','host_about_len','metro_area','bedrooms_str','beds_str']\n",
    "\n",
    "# Wrangle and pre-process\n",
    "\n",
    "# Removing sparse features from features (sparse features are <90% populated)\n",
    "sparse_features = ['square_feet','neighbourhood_group_cleansed','host_response_rate','host_response_time','neighbourhood','host_acceptance_rate']\n",
    "\n",
    "unusable_features = ['amenities']\n",
    "\n",
    "# v2 Exlcude zipcode, latitude and longitude, bedrooms_str and beds_str\n",
    "duplicative_location_features = ['street','neighbourhood','neighbourhood_cleansed','neighbourhood_group_cleansed','city','state','latitude','longitude','market','smart_location','zipcode','bedrooms_str','beds_str']\n",
    "\n",
    "numeric_columns = df.dtypes[df.dtypes==int].index.tolist()\n",
    "nonnumeric_columns = df.dtypes[df.dtypes==object].index.tolist()\n",
    "\n",
    "df[nonnumeric_columns] = df[nonnumeric_columns].astype(str)\n",
    "\n",
    "selected_features = list(set(features) - set(sparse_features))\n",
    "selected_features = list(set(selected_features) - set(unusable_features))\n",
    "selected_features = list(set(selected_features) - set(duplicative_location_features))\n",
    "\n",
    "df = df[target + selected_features]\n",
    "\n",
    "df.dropna(inplace=True)"
   ]
  },
  {
   "cell_type": "code",
   "execution_count": 154,
   "metadata": {},
   "outputs": [
    {
     "output_type": "execute_result",
     "data": {
      "text/plain": [
       "((230950, 1), (230950, 21))"
      ]
     },
     "metadata": {},
     "execution_count": 154
    }
   ],
   "source": [
    "y = df[target]\n",
    "X = df[selected_features]\n",
    "y.shape, X.shape\n"
   ]
  },
  {
   "cell_type": "code",
   "execution_count": 155,
   "metadata": {},
   "outputs": [],
   "source": [
    "from sklearn.model_selection import train_test_split\n",
    "X_train, X_test, y_train, y_test = train_test_split(X,y, test_size=.2, random_state=42)\n",
    "\n"
   ]
  },
  {
   "source": [
    "#### Using pipelines for linear regression"
   ],
   "cell_type": "markdown",
   "metadata": {}
  },
  {
   "cell_type": "code",
   "execution_count": 156,
   "metadata": {},
   "outputs": [],
   "source": [
    "y = df[target]\n",
    "X = df[selected_features]\n",
    "y.shape, X.shape\n",
    "\n",
    "from sklearn.model_selection import train_test_split\n",
    "X_train, X_test, y_train, y_test = train_test_split(X,y, test_size=.2, random_state=42)"
   ]
  },
  {
   "cell_type": "code",
   "execution_count": 157,
   "metadata": {},
   "outputs": [],
   "source": [
    "# User pipelines for linear regression\n",
    "import category_encoders as ce\n",
    "from sklearn.pipeline import make_pipeline\n",
    "from sklearn.linear_model import LinearRegression\n",
    "from sklearn.impute import SimpleImputer\n",
    "from sklearn.metrics import r2_score\n",
    "\n",
    "pipeline = make_pipeline(\n",
    "    ce.OneHotEncoder(use_cat_names=True),\n",
    "    SimpleImputer(strategy='mean'),\n",
    "    LinearRegression()\n",
    ")"
   ]
  },
  {
   "cell_type": "code",
   "execution_count": 158,
   "metadata": {},
   "outputs": [
    {
     "output_type": "stream",
     "name": "stdout",
     "text": [
      "mae $186\nr2 $0.11699969254468001\n"
     ]
    }
   ],
   "source": [
    "pipeline.fit(X_train, y_train)\n",
    "\n",
    "# print('Train Accuracy', pipeline.score(X_train, y_train))\n",
    "# print('Test Accuracy', pipeline.score(X_test, y_pred),\"does not seem right\")\n",
    "\n",
    "y_pred = pipeline.predict(X_test)\n",
    "mae = mean_absolute_error(y_test, y_pred)\n",
    "print(f'mae ${mae:,.0f}')\n",
    "\n",
    "r2 = r2_score(y_test, y_pred)\n",
    "print(f'r2 ${r2}')"
   ]
  },
  {
   "cell_type": "code",
   "execution_count": 161,
   "metadata": {},
   "outputs": [],
   "source": [
    "# Save pipeline \n",
    "with open('linear_model_pipeline_v2.pkl','wb') as model_file:\n",
    "    pickle.dump(pipeline, model_file)"
   ]
  },
  {
   "cell_type": "code",
   "execution_count": 162,
   "metadata": {},
   "outputs": [],
   "source": [
    "# load model\n",
    "with open('linear_model_pipeline_v2.pkl','rb') as model_file:\n",
    "    loaded_model = pickle.load(model_file)"
   ]
  },
  {
   "cell_type": "code",
   "execution_count": 163,
   "metadata": {},
   "outputs": [
    {
     "output_type": "execute_result",
     "data": {
      "text/plain": [
       "array([[269.78101657],\n",
       "       [182.17696372]])"
      ]
     },
     "metadata": {},
     "execution_count": 163
    }
   ],
   "source": [
    "# Run prediction\n",
    "loaded_model.predict(X_train.iloc[:2,:])\n",
    "\n",
    "# array([[134.01877682],[194.9625043 ]])"
   ]
  },
  {
   "cell_type": "code",
   "execution_count": 174,
   "metadata": {},
   "outputs": [],
   "source": [
    "# Export X_train\n",
    "import numpy as np\n",
    "X_train[:10].to_csv(\"X_train.csv\",index=False)"
   ]
  },
  {
   "cell_type": "code",
   "execution_count": 173,
   "metadata": {},
   "outputs": [
    {
     "output_type": "execute_result",
     "data": {
      "text/plain": [
       "       require_guest_profile_picture  minimum_nights  bathrooms  transit_len  \\\n",
       "39931                              f               1        1.0          110   \n",
       "217369                             f              30        1.0          287   \n",
       "153008                             f               1        1.5            3   \n",
       "180362                             f               3        2.5           63   \n",
       "86132                              f              31        1.0          345   \n",
       "...                              ...             ...        ...          ...   \n",
       "120860                             f               5        1.0            3   \n",
       "104426                             f              31        1.0          204   \n",
       "132975                             f               4        1.0          567   \n",
       "147923                             f              30        1.0          172   \n",
       "122986                             f               7        1.0          129   \n",
       "\n",
       "        maximum_nights  host_about_len  accommodates       property_type  \\\n",
       "39931             1125               3             5         Condominium   \n",
       "217369            1125               3             3  Serviced apartment   \n",
       "153008              30               3             4           Apartment   \n",
       "180362            1125             316            10               House   \n",
       "86132              365               3             3           Apartment   \n",
       "...                ...             ...           ...                 ...   \n",
       "120860              60              25             2           Apartment   \n",
       "104426            1125             467             4           Apartment   \n",
       "132975              10             376             2           Apartment   \n",
       "147923            1125               3             1           Apartment   \n",
       "122986              27              86             2           Apartment   \n",
       "\n",
       "              room_type  interaction_len  notes_len instant_bookable  \\\n",
       "39931   Entire home/apt              120          3                f   \n",
       "217369  Entire home/apt              270        455                t   \n",
       "153008  Entire home/apt                3          3                t   \n",
       "180362  Entire home/apt              383        127                f   \n",
       "86132   Entire home/apt              212          3                t   \n",
       "...                 ...              ...        ...              ...   \n",
       "120860  Entire home/apt                3          3                f   \n",
       "104426  Entire home/apt              122          3                f   \n",
       "132975  Entire home/apt              177          3                f   \n",
       "147923  Entire home/apt                3         40                f   \n",
       "122986  Entire home/apt                8          3                f   \n",
       "\n",
       "        bed_type  access_len require_guest_phone_verification  \\\n",
       "39931   Real Bed         171                                f   \n",
       "217369  Real Bed         317                                f   \n",
       "153008  Real Bed           3                                f   \n",
       "180362  Real Bed         132                                f   \n",
       "86132   Real Bed          67                                f   \n",
       "...          ...         ...                              ...   \n",
       "120860  Real Bed           3                                f   \n",
       "104426  Real Bed           3                                f   \n",
       "132975  Real Bed         168                                f   \n",
       "147923  Real Bed          12                                f   \n",
       "122986  Real Bed          41                                f   \n",
       "\n",
       "       is_business_travel_ready          cancellation_policy  bedrooms  \\\n",
       "39931                         f  strict_14_with_grace_period       2.0   \n",
       "217369                        f  strict_14_with_grace_period       1.0   \n",
       "153008                        f                     flexible       2.0   \n",
       "180362                        f                     moderate       5.0   \n",
       "86132                         f  strict_14_with_grace_period       1.0   \n",
       "...                         ...                          ...       ...   \n",
       "120860                        f                     moderate       1.0   \n",
       "104426                        f  strict_14_with_grace_period       1.0   \n",
       "132975                        f  strict_14_with_grace_period       1.0   \n",
       "147923                        f                     flexible       1.0   \n",
       "122986                        f                     flexible       1.0   \n",
       "\n",
       "           metro_area  beds  house_rules_len  \n",
       "39931        Columbus   2.0               67  \n",
       "217369        Seattle   1.0              376  \n",
       "153008  New York City   2.0                3  \n",
       "180362   Rhode Island   5.0              114  \n",
       "86132     Los Angeles   2.0                3  \n",
       "...               ...   ...              ...  \n",
       "120860  New York City   1.0                3  \n",
       "104426    Los Angeles   1.0               58  \n",
       "132975  New York City   1.0              137  \n",
       "147923  New York City   0.0                3  \n",
       "122986  New York City   1.0              164  \n",
       "\n",
       "[184760 rows x 21 columns]"
      ],
      "text/html": "<div>\n<style scoped>\n    .dataframe tbody tr th:only-of-type {\n        vertical-align: middle;\n    }\n\n    .dataframe tbody tr th {\n        vertical-align: top;\n    }\n\n    .dataframe thead th {\n        text-align: right;\n    }\n</style>\n<table border=\"1\" class=\"dataframe\">\n  <thead>\n    <tr style=\"text-align: right;\">\n      <th></th>\n      <th>require_guest_profile_picture</th>\n      <th>minimum_nights</th>\n      <th>bathrooms</th>\n      <th>transit_len</th>\n      <th>maximum_nights</th>\n      <th>host_about_len</th>\n      <th>accommodates</th>\n      <th>property_type</th>\n      <th>room_type</th>\n      <th>interaction_len</th>\n      <th>notes_len</th>\n      <th>instant_bookable</th>\n      <th>bed_type</th>\n      <th>access_len</th>\n      <th>require_guest_phone_verification</th>\n      <th>is_business_travel_ready</th>\n      <th>cancellation_policy</th>\n      <th>bedrooms</th>\n      <th>metro_area</th>\n      <th>beds</th>\n      <th>house_rules_len</th>\n    </tr>\n  </thead>\n  <tbody>\n    <tr>\n      <th>39931</th>\n      <td>f</td>\n      <td>1</td>\n      <td>1.0</td>\n      <td>110</td>\n      <td>1125</td>\n      <td>3</td>\n      <td>5</td>\n      <td>Condominium</td>\n      <td>Entire home/apt</td>\n      <td>120</td>\n      <td>3</td>\n      <td>f</td>\n      <td>Real Bed</td>\n      <td>171</td>\n      <td>f</td>\n      <td>f</td>\n      <td>strict_14_with_grace_period</td>\n      <td>2.0</td>\n      <td>Columbus</td>\n      <td>2.0</td>\n      <td>67</td>\n    </tr>\n    <tr>\n      <th>217369</th>\n      <td>f</td>\n      <td>30</td>\n      <td>1.0</td>\n      <td>287</td>\n      <td>1125</td>\n      <td>3</td>\n      <td>3</td>\n      <td>Serviced apartment</td>\n      <td>Entire home/apt</td>\n      <td>270</td>\n      <td>455</td>\n      <td>t</td>\n      <td>Real Bed</td>\n      <td>317</td>\n      <td>f</td>\n      <td>f</td>\n      <td>strict_14_with_grace_period</td>\n      <td>1.0</td>\n      <td>Seattle</td>\n      <td>1.0</td>\n      <td>376</td>\n    </tr>\n    <tr>\n      <th>153008</th>\n      <td>f</td>\n      <td>1</td>\n      <td>1.5</td>\n      <td>3</td>\n      <td>30</td>\n      <td>3</td>\n      <td>4</td>\n      <td>Apartment</td>\n      <td>Entire home/apt</td>\n      <td>3</td>\n      <td>3</td>\n      <td>t</td>\n      <td>Real Bed</td>\n      <td>3</td>\n      <td>f</td>\n      <td>f</td>\n      <td>flexible</td>\n      <td>2.0</td>\n      <td>New York City</td>\n      <td>2.0</td>\n      <td>3</td>\n    </tr>\n    <tr>\n      <th>180362</th>\n      <td>f</td>\n      <td>3</td>\n      <td>2.5</td>\n      <td>63</td>\n      <td>1125</td>\n      <td>316</td>\n      <td>10</td>\n      <td>House</td>\n      <td>Entire home/apt</td>\n      <td>383</td>\n      <td>127</td>\n      <td>f</td>\n      <td>Real Bed</td>\n      <td>132</td>\n      <td>f</td>\n      <td>f</td>\n      <td>moderate</td>\n      <td>5.0</td>\n      <td>Rhode Island</td>\n      <td>5.0</td>\n      <td>114</td>\n    </tr>\n    <tr>\n      <th>86132</th>\n      <td>f</td>\n      <td>31</td>\n      <td>1.0</td>\n      <td>345</td>\n      <td>365</td>\n      <td>3</td>\n      <td>3</td>\n      <td>Apartment</td>\n      <td>Entire home/apt</td>\n      <td>212</td>\n      <td>3</td>\n      <td>t</td>\n      <td>Real Bed</td>\n      <td>67</td>\n      <td>f</td>\n      <td>f</td>\n      <td>strict_14_with_grace_period</td>\n      <td>1.0</td>\n      <td>Los Angeles</td>\n      <td>2.0</td>\n      <td>3</td>\n    </tr>\n    <tr>\n      <th>...</th>\n      <td>...</td>\n      <td>...</td>\n      <td>...</td>\n      <td>...</td>\n      <td>...</td>\n      <td>...</td>\n      <td>...</td>\n      <td>...</td>\n      <td>...</td>\n      <td>...</td>\n      <td>...</td>\n      <td>...</td>\n      <td>...</td>\n      <td>...</td>\n      <td>...</td>\n      <td>...</td>\n      <td>...</td>\n      <td>...</td>\n      <td>...</td>\n      <td>...</td>\n      <td>...</td>\n    </tr>\n    <tr>\n      <th>120860</th>\n      <td>f</td>\n      <td>5</td>\n      <td>1.0</td>\n      <td>3</td>\n      <td>60</td>\n      <td>25</td>\n      <td>2</td>\n      <td>Apartment</td>\n      <td>Entire home/apt</td>\n      <td>3</td>\n      <td>3</td>\n      <td>f</td>\n      <td>Real Bed</td>\n      <td>3</td>\n      <td>f</td>\n      <td>f</td>\n      <td>moderate</td>\n      <td>1.0</td>\n      <td>New York City</td>\n      <td>1.0</td>\n      <td>3</td>\n    </tr>\n    <tr>\n      <th>104426</th>\n      <td>f</td>\n      <td>31</td>\n      <td>1.0</td>\n      <td>204</td>\n      <td>1125</td>\n      <td>467</td>\n      <td>4</td>\n      <td>Apartment</td>\n      <td>Entire home/apt</td>\n      <td>122</td>\n      <td>3</td>\n      <td>f</td>\n      <td>Real Bed</td>\n      <td>3</td>\n      <td>f</td>\n      <td>f</td>\n      <td>strict_14_with_grace_period</td>\n      <td>1.0</td>\n      <td>Los Angeles</td>\n      <td>1.0</td>\n      <td>58</td>\n    </tr>\n    <tr>\n      <th>132975</th>\n      <td>f</td>\n      <td>4</td>\n      <td>1.0</td>\n      <td>567</td>\n      <td>10</td>\n      <td>376</td>\n      <td>2</td>\n      <td>Apartment</td>\n      <td>Entire home/apt</td>\n      <td>177</td>\n      <td>3</td>\n      <td>f</td>\n      <td>Real Bed</td>\n      <td>168</td>\n      <td>f</td>\n      <td>f</td>\n      <td>strict_14_with_grace_period</td>\n      <td>1.0</td>\n      <td>New York City</td>\n      <td>1.0</td>\n      <td>137</td>\n    </tr>\n    <tr>\n      <th>147923</th>\n      <td>f</td>\n      <td>30</td>\n      <td>1.0</td>\n      <td>172</td>\n      <td>1125</td>\n      <td>3</td>\n      <td>1</td>\n      <td>Apartment</td>\n      <td>Entire home/apt</td>\n      <td>3</td>\n      <td>40</td>\n      <td>f</td>\n      <td>Real Bed</td>\n      <td>12</td>\n      <td>f</td>\n      <td>f</td>\n      <td>flexible</td>\n      <td>1.0</td>\n      <td>New York City</td>\n      <td>0.0</td>\n      <td>3</td>\n    </tr>\n    <tr>\n      <th>122986</th>\n      <td>f</td>\n      <td>7</td>\n      <td>1.0</td>\n      <td>129</td>\n      <td>27</td>\n      <td>86</td>\n      <td>2</td>\n      <td>Apartment</td>\n      <td>Entire home/apt</td>\n      <td>8</td>\n      <td>3</td>\n      <td>f</td>\n      <td>Real Bed</td>\n      <td>41</td>\n      <td>f</td>\n      <td>f</td>\n      <td>flexible</td>\n      <td>1.0</td>\n      <td>New York City</td>\n      <td>1.0</td>\n      <td>164</td>\n    </tr>\n  </tbody>\n</table>\n<p>184760 rows × 21 columns</p>\n</div>"
     },
     "metadata": {},
     "execution_count": 173
    }
   ],
   "source": [
    "X_train"
   ]
  },
  {
   "source": [
    "#### Linear model + Kbest in a pipeline"
   ],
   "cell_type": "markdown",
   "metadata": {}
  },
  {
   "cell_type": "code",
   "execution_count": 121,
   "metadata": {},
   "outputs": [],
   "source": [
    "# from sklearn.feature_selection import SelectKBest\n",
    "# selector = SelectKBest(k=15) #going down from 107 features to 15???\n",
    "# X_train_selected = selector.fit_transform(X_train, y_train)\n",
    "# X_test_selected = selector.transform(X_test)"
   ]
  },
  {
   "cell_type": "code",
   "execution_count": 122,
   "metadata": {},
   "outputs": [],
   "source": [
    "# # User pipelines for linear regression\n",
    "# import category_encoders as ce\n",
    "# from sklearn.pipeline import make_pipeline\n",
    "# from sklearn.linear_model import LinearRegression\n",
    "# from sklearn.impute import SimpleImputer\n",
    "# from sklearn.feature_selection import SelectKBest\n",
    "# selector = SelectKBest(k=15) #going down from 107 features to 15???\n",
    "\n",
    "# pipeline = make_pipeline(\n",
    "#     ce.OneHotEncoder(use_cat_names=True),\n",
    "#     SimpleImputer(strategy='mean'),\n",
    "#     LinearRegression()\n",
    "# )\n",
    "\n",
    "# X_train_selected = selector.fit_transform(X_train, y_train)\n",
    "# pipeline.fit(X_train_selected,)\n",
    "\n",
    "# # pipeline.fit(X_train, y_train)\n",
    "\n"
   ]
  },
  {
   "cell_type": "code",
   "execution_count": 123,
   "metadata": {},
   "outputs": [],
   "source": [
    "# X_train_selected"
   ]
  },
  {
   "cell_type": "code",
   "execution_count": 165,
   "metadata": {},
   "outputs": [
    {
     "output_type": "execute_result",
     "data": {
      "text/plain": [
       "(184760, 21)"
      ]
     },
     "metadata": {},
     "execution_count": 165
    }
   ],
   "source": [
    "X_train.shape"
   ]
  },
  {
   "cell_type": "code",
   "execution_count": 177,
   "metadata": {},
   "outputs": [],
   "source": [
    "X_test = pd.DataFrame({'metro_area': ['New York City'], 'minimum_nights': ['1'], 'maximum_nights': ['1'], 'property_type': ['House'], 'room_type': ['Private room'], 'bathrooms': ['1'], 'accommodates': ['1'], 'bedrooms': ['1'], 'beds': ['1'], 'bed_type': ['Real Bed'], 'require_guest_profile_picture': ['t'], 'transit_len': ['500'], 'host_about_len': ['1000'], 'notes_len': ['500'], 'access_len': ['500'], 'house_rules_len': ['500'], 'interaction_len': ['350'], 'instant_bookable': ['t'], 'require_guest_phone_verification': ['t'], 'is_business_travel_ready': ['f'], 'cancellation_policy': ['moderate']})"
   ]
  },
  {
   "cell_type": "code",
   "execution_count": 178,
   "metadata": {},
   "outputs": [
    {
     "output_type": "execute_result",
     "data": {
      "text/plain": [
       "array([[76257213.62279014]])"
      ]
     },
     "metadata": {},
     "execution_count": 178
    }
   ],
   "source": [
    "loaded_model.predict(X_test)"
   ]
  },
  {
   "source": [
    "**OOPS**!\n",
    "\n",
    "We're run into a problem. The latitude and longitude are the only  location attribute for our prediction model. However, these coordinates would not be meaningful to the user as they are not familiar with the locations they correspond to. We could solve this by \n",
    ">(a) translating the coordinates to their corresponding neighborhoods in the app. \n",
    ">(b) Or we could pick a different location variable. \n",
    "\n",
    "We'll pick (b) which we'll implement in a separate notebook."
   ],
   "cell_type": "markdown",
   "metadata": {}
  },
  {
   "source": [
    "#### References ####\n",
    "\n",
    "Transforming zipcode: https://towardsdatascience.com/transforming-categorical-information-into-usable-measures-in-a-machine-learning-model-e2910bbb3fc7\n",
    "\n"
   ],
   "cell_type": "markdown",
   "metadata": {}
  },
  {
   "source": [
    "Tangents\n",
    "\n",
    "* R2 \n",
    "* "
   ],
   "cell_type": "markdown",
   "metadata": {}
  },
  {
   "source": [
    "Drop down values and ranges for prediction form"
   ],
   "cell_type": "markdown",
   "metadata": {}
  },
  {
   "cell_type": "code",
   "execution_count": null,
   "metadata": {},
   "outputs": [],
   "source": [
    "['host_response_time',\n",
    "'host_response_rate',\n",
    "'host_acceptance_rate',\n",
    "'street',\n",
    "'neighbourhood',\n",
    "'neighbourhood_cleansed',\n",
    "'neighbourhood_group_cleansed','city','state','zipcode','market','smart_location','latitude','longitude','property_type','room_type','accommodates','bathrooms','bedrooms','beds','bed_type','amenities','square_feet','minimum_nights','maximum_nights','instant_bookable','is_business_travel_ready','cancellation_policy','require_guest_profile_picture','require_guest_phone_verification','notes_len','transit_len','access_len','interaction_len','house_rules_len','host_about_len','metro_area','bedrooms_str','beds_str']"
   ]
  },
  {
   "cell_type": "code",
   "execution_count": 140,
   "metadata": {},
   "outputs": [
    {
     "output_type": "stream",
     "name": "stdout",
     "text": [
      "X.shape  (230950, 23)\n",
      "X.metro_area.unique()  ['Austin' 'Boston' 'Broward' 'Cambridge' 'Chicago' 'Twin Cities'\n",
      " 'Clark CO' 'Columbus' 'Denver' 'Hawaii' 'Jersey City' 'New York City'\n",
      " 'Los Angeles' 'Oakland' 'Nashville' 'New Orleans' 'Santa Clara'\n",
      " 'Portland' 'Rhode Island' 'Salem' 'San Diego' 'San Francisco' 'Seattle'\n",
      " 'Washington DC']\n",
      "X.require_guest_profile_picture.unique()  ['f' 't']\n",
      "X.minimum_nights>=60 3711\n",
      "X.minimum_nights>=90 2952\n",
      "X.maximum_nights.quantile(.99)  1125.0\n",
      "X.property_type.unique()  ['House' 'Apartment' 'Guesthouse' 'Bungalow' 'Condominium' 'Townhouse'\n",
      " 'Resort' 'Tiny house' 'Cottage' 'Guest suite' 'Camper/RV' 'Loft' 'Hostel'\n",
      " 'Farm stay' 'Chalet' 'Boutique hotel' 'Serviced apartment' 'Villa'\n",
      " 'Cabin' 'Houseboat' 'Bed and breakfast' 'Dome house' 'Aparthotel'\n",
      " 'Campsite' 'Yurt' 'Tent' 'Boat' 'Hotel' 'Treehouse' 'Earth house' 'Other'\n",
      " 'Castle' 'Barn' 'Casa particular (Cuba)' 'Island' 'Hut' 'Timeshare'\n",
      " 'Lighthouse' 'Cave' 'Nature lodge' 'Bus' 'Igloo' 'Vacation home' 'Tipi'\n",
      " 'Train' 'Minsu (Taiwan)' 'Dorm' 'Pension (South Korea)' 'In-law']\n",
      "X.room_type.unique()  ['Private room' 'Entire home/apt' 'Shared room' 'Hotel room']\n",
      "(X.bathrooms>=5)  2020\n",
      "X.accommodates.quantile(.99)  15.0\n",
      "X.bedrooms.quantile(.99)  5.0\n",
      "X.beds.quantile(.99)  9.0\n",
      "X.bed_type.unique()  ['Real Bed' 'Airbed' 'Futon' 'Pull-out Sofa' 'Couch']\n",
      "X.beds_str.unique()  ['1' '2' '6' '3' '4' '7' '5' '8' '0' '10+' '9']\n",
      "X.bedrooms_str.unique()  ['1' '2' '0' '4' '3' '5' '6' '7+']\n",
      "X.transit_len.quantile(.99))  1000.0\n",
      "X.host_about_len.quantile(.995)  2102.5100000000093\n",
      "X.notes_len.quantile(.99)  1000.0\n",
      "X.access_len.quantile(.99)  1000.0\n",
      "X.house_rules_len.quantile(.99)  1000.0\n",
      "X.interaction_len.quantile(.99)  679.0\n",
      "X.instant_bookable.unique()  ['f' 't']\n",
      "X.require_guest_phone_verification.unique()  ['f' 't']\n",
      "X.is_business_travel_ready.unique()  ['f']\n",
      "X.cancellation_policy.unique()  ['moderate' 'flexible' 'strict_14_with_grace_period' 'super_strict_30'\n",
      " 'super_strict_60' 'luxury_moderate' 'strict' 'luxury_super_strict_95'\n",
      " 'luxury_no_refund' 'luxury_super_strict_125']\n"
     ]
    }
   ],
   "source": [
    "print(\"X.shape \",X.shape)\n",
    "\n",
    "print(\"X.metro_area.unique() \",X.metro_area.unique()) #['Austin' 'Boston' 'Broward' 'Cambridge' 'Chicago' 'Twin Cities','Clark CO' 'Columbus' 'Denver' 'Hawaii' 'Jersey City' 'New York City','Los Angeles','Oakland' 'Nashville' 'New Orleans' 'Santa Clara', 'Portland' 'Rhode Island' 'Salem' 'San Diego' 'San Francisco' 'Seattle','Washington DC']\n",
    "print(\"X.require_guest_profile_picture.unique() \",X.require_guest_profile_picture.unique())\n",
    "# print(X.minimum_nights.value_counts()) #range -> 0 to 90\n",
    "print(\"X.minimum_nights>=60\",(X.minimum_nights>=60).sum())\n",
    "print(\"X.minimum_nights>=90\",(X.minimum_nights>=90).sum())\n",
    "print(\"X.maximum_nights.quantile(.99) \",X.maximum_nights.quantile(.99))\n",
    "\n",
    "print(\"X.property_type.unique() \", X.property_type.unique()) #['House' 'Apartment' 'Guesthouse' 'Bungalow' 'Condominium' 'Townhouse', 'Resort' 'Tiny house' 'Cottage' 'Guest suite' 'Camper/RV' 'Loft' 'Hostel','Farm stay' 'Chalet' 'Boutique hotel' 'Serviced apartment' 'Villa', 'Cabin' 'Houseboat' 'Bed and breakfast' 'Dome house' 'Aparthotel','Campsite' 'Yurt' 'Tent' 'Boat' 'Hotel','Treehouse' 'Earth house' 'Other', 'Castle' 'Barn' 'Casa particular (Cuba)' 'Island' 'Hut' 'Timeshare','Lighthouse' 'Cave' 'Nature lodge' 'Bus' 'Igloo' 'Vacation home' 'Tipi','Train' 'Minsu (Taiwan)' 'Dorm' 'Pension (South Korea)' 'In-law']\n",
    "print(\"X.room_type.unique() \", X.room_type.unique()) #['Private room' 'Entire home/apt' 'Shared room' 'Hotel room']\n",
    "\n",
    "print(\"(X.bathrooms>=5) \",(X.bathrooms>=5).sum()) # 0 to 8\n",
    "print(\"X.accommodates.quantile(.99) \",X.accommodates.quantile(.99)) #0 to 15\n",
    "print(\"X.bedrooms.quantile(.99) \", X.bedrooms.quantile(.99)) # 0 to 5\n",
    "print(\"X.beds.quantile(.99) \",X.beds.quantile(.99)) # 0 to 9\n",
    "print(\"X.bed_type.unique() \",X.bed_type.unique()) #['Real Bed' 'Airbed' 'Futon' 'Pull-out Sofa' 'Couch']\n",
    "print(\"X.beds_str.unique() \",X.beds_str.unique()) #['1' '2' '6' '3' '4' '7' '5' '8' '0' '10+' '9']\n",
    "print(\"X.bedrooms_str.unique() \",X.bedrooms_str.unique()) #['1' '2' '0' '4' '3' '5' '6' '7+']\n",
    "\n",
    "print(\"X.transit_len.quantile(.99)) \", X.transit_len.quantile(.99)) #0 to 1000\n",
    "print(\"X.host_about_len.quantile(.995) \",X.host_about_len.quantile(.995)) #0 to 2000\n",
    "print(\"X.notes_len.quantile(.99) \",X.notes_len.quantile(.99)) #0 to 1000\n",
    "print(\"X.access_len.quantile(.99) \", X.access_len.quantile(.99)) #0 to 1000\n",
    "print(\"X.house_rules_len.quantile(.99) \",X.house_rules_len.quantile(.99)) # 0 to 1000\n",
    "print(\"X.interaction_len.quantile(.99) \",X.interaction_len.quantile(.99)) #0 to 700\n",
    "\n",
    "print(\"X.instant_bookable.unique() \",X.instant_bookable.unique()) #['f','t']\n",
    "print(\"X.require_guest_phone_verification.unique() \",X.require_guest_phone_verification.unique()) #['f' 't']\n",
    "print(\"X.is_business_travel_ready.unique() \",X.is_business_travel_ready.unique()) #['f']\n",
    "print(\"X.cancellation_policy.unique() \",X.cancellation_policy.unique()) #'moderate' 'flexible' 'strict_14_with_grace_period' 'super_strict_30','super_strict_60' 'luxury_moderate' 'strict' 'luxury_super_strict_95','luxury_no_refund' 'luxury_super_strict_125']\n",
    "\n",
    "\n"
   ]
  },
  {
   "cell_type": "code",
   "execution_count": 64,
   "metadata": {},
   "outputs": [
    {
     "output_type": "execute_result",
     "data": {
      "text/plain": [
       "  require_guest_profile_picture  minimum_nights  bathrooms  transit_len  \\\n",
       "0                             f               1        1.0          378   \n",
       "1                             f               1        2.0            3   \n",
       "2                             f               1        1.0           31   \n",
       "3                             f               1        1.0            3   \n",
       "4                             f               2        2.0          587   \n",
       "\n",
       "   maximum_nights  host_about_len  accommodates property_type  \\\n",
       "0               7               3             2         House   \n",
       "1              14               3             8         House   \n",
       "2               7             104             4     Apartment   \n",
       "3            1125               3             2    Guesthouse   \n",
       "4            1125              59            10      Bungalow   \n",
       "\n",
       "         room_type  interaction_len  notes_len instant_bookable  bed_type  \\\n",
       "0     Private room              110          3                f  Real Bed   \n",
       "1  Entire home/apt                3         44                f  Real Bed   \n",
       "2  Entire home/apt               18          3                f  Real Bed   \n",
       "3  Entire home/apt                3          3                t  Real Bed   \n",
       "4  Entire home/apt              130         40                t  Real Bed   \n",
       "\n",
       "   access_len beds_str require_guest_phone_verification  \\\n",
       "0         186        1                                f   \n",
       "1           3        2                                f   \n",
       "2         122        2                                f   \n",
       "3           3        1                                f   \n",
       "4          49        6                                f   \n",
       "\n",
       "  is_business_travel_ready bedrooms_str cancellation_policy  bedrooms  \\\n",
       "0                        f            1            moderate       1.0   \n",
       "1                        f            2            moderate       2.0   \n",
       "2                        f            2            moderate       2.0   \n",
       "3                        f            0            flexible       0.0   \n",
       "4                        f            4            flexible       4.0   \n",
       "\n",
       "  metro_area  beds  house_rules_len  \n",
       "0     Austin   1.0                3  \n",
       "1     Austin   2.0              211  \n",
       "2     Austin   2.0                3  \n",
       "3     Austin   1.0                3  \n",
       "4     Austin   6.0              506  "
      ],
      "text/html": "<div>\n<style scoped>\n    .dataframe tbody tr th:only-of-type {\n        vertical-align: middle;\n    }\n\n    .dataframe tbody tr th {\n        vertical-align: top;\n    }\n\n    .dataframe thead th {\n        text-align: right;\n    }\n</style>\n<table border=\"1\" class=\"dataframe\">\n  <thead>\n    <tr style=\"text-align: right;\">\n      <th></th>\n      <th>require_guest_profile_picture</th>\n      <th>minimum_nights</th>\n      <th>bathrooms</th>\n      <th>transit_len</th>\n      <th>maximum_nights</th>\n      <th>host_about_len</th>\n      <th>accommodates</th>\n      <th>property_type</th>\n      <th>room_type</th>\n      <th>interaction_len</th>\n      <th>notes_len</th>\n      <th>instant_bookable</th>\n      <th>bed_type</th>\n      <th>access_len</th>\n      <th>beds_str</th>\n      <th>require_guest_phone_verification</th>\n      <th>is_business_travel_ready</th>\n      <th>bedrooms_str</th>\n      <th>cancellation_policy</th>\n      <th>bedrooms</th>\n      <th>metro_area</th>\n      <th>beds</th>\n      <th>house_rules_len</th>\n    </tr>\n  </thead>\n  <tbody>\n    <tr>\n      <th>0</th>\n      <td>f</td>\n      <td>1</td>\n      <td>1.0</td>\n      <td>378</td>\n      <td>7</td>\n      <td>3</td>\n      <td>2</td>\n      <td>House</td>\n      <td>Private room</td>\n      <td>110</td>\n      <td>3</td>\n      <td>f</td>\n      <td>Real Bed</td>\n      <td>186</td>\n      <td>1</td>\n      <td>f</td>\n      <td>f</td>\n      <td>1</td>\n      <td>moderate</td>\n      <td>1.0</td>\n      <td>Austin</td>\n      <td>1.0</td>\n      <td>3</td>\n    </tr>\n    <tr>\n      <th>1</th>\n      <td>f</td>\n      <td>1</td>\n      <td>2.0</td>\n      <td>3</td>\n      <td>14</td>\n      <td>3</td>\n      <td>8</td>\n      <td>House</td>\n      <td>Entire home/apt</td>\n      <td>3</td>\n      <td>44</td>\n      <td>f</td>\n      <td>Real Bed</td>\n      <td>3</td>\n      <td>2</td>\n      <td>f</td>\n      <td>f</td>\n      <td>2</td>\n      <td>moderate</td>\n      <td>2.0</td>\n      <td>Austin</td>\n      <td>2.0</td>\n      <td>211</td>\n    </tr>\n    <tr>\n      <th>2</th>\n      <td>f</td>\n      <td>1</td>\n      <td>1.0</td>\n      <td>31</td>\n      <td>7</td>\n      <td>104</td>\n      <td>4</td>\n      <td>Apartment</td>\n      <td>Entire home/apt</td>\n      <td>18</td>\n      <td>3</td>\n      <td>f</td>\n      <td>Real Bed</td>\n      <td>122</td>\n      <td>2</td>\n      <td>f</td>\n      <td>f</td>\n      <td>2</td>\n      <td>moderate</td>\n      <td>2.0</td>\n      <td>Austin</td>\n      <td>2.0</td>\n      <td>3</td>\n    </tr>\n    <tr>\n      <th>3</th>\n      <td>f</td>\n      <td>1</td>\n      <td>1.0</td>\n      <td>3</td>\n      <td>1125</td>\n      <td>3</td>\n      <td>2</td>\n      <td>Guesthouse</td>\n      <td>Entire home/apt</td>\n      <td>3</td>\n      <td>3</td>\n      <td>t</td>\n      <td>Real Bed</td>\n      <td>3</td>\n      <td>1</td>\n      <td>f</td>\n      <td>f</td>\n      <td>0</td>\n      <td>flexible</td>\n      <td>0.0</td>\n      <td>Austin</td>\n      <td>1.0</td>\n      <td>3</td>\n    </tr>\n    <tr>\n      <th>4</th>\n      <td>f</td>\n      <td>2</td>\n      <td>2.0</td>\n      <td>587</td>\n      <td>1125</td>\n      <td>59</td>\n      <td>10</td>\n      <td>Bungalow</td>\n      <td>Entire home/apt</td>\n      <td>130</td>\n      <td>40</td>\n      <td>t</td>\n      <td>Real Bed</td>\n      <td>49</td>\n      <td>6</td>\n      <td>f</td>\n      <td>f</td>\n      <td>4</td>\n      <td>flexible</td>\n      <td>4.0</td>\n      <td>Austin</td>\n      <td>6.0</td>\n      <td>506</td>\n    </tr>\n  </tbody>\n</table>\n</div>"
     },
     "metadata": {},
     "execution_count": 64
    }
   ],
   "source": [
    "X.head()"
   ]
  },
  {
   "cell_type": "code",
   "execution_count": null,
   "metadata": {},
   "outputs": [],
   "source": []
  },
  {
   "cell_type": "code",
   "execution_count": 166,
   "metadata": {},
   "outputs": [
    {
     "output_type": "execute_result",
     "data": {
      "text/plain": [
       "Index(['require_guest_profile_picture', 'minimum_nights', 'bathrooms',\n",
       "       'transit_len', 'maximum_nights', 'host_about_len', 'accommodates',\n",
       "       'property_type', 'room_type', 'interaction_len', 'notes_len',\n",
       "       'instant_bookable', 'bed_type', 'access_len',\n",
       "       'require_guest_phone_verification', 'is_business_travel_ready',\n",
       "       'cancellation_policy', 'bedrooms', 'metro_area', 'beds',\n",
       "       'house_rules_len'],\n",
       "      dtype='object')"
      ]
     },
     "metadata": {},
     "execution_count": 166
    }
   ],
   "source": [
    "X_train.columns"
   ]
  },
  {
   "cell_type": "code",
   "execution_count": 148,
   "metadata": {},
   "outputs": [
    {
     "output_type": "execute_result",
     "data": {
      "text/plain": [
       "1     101546\n",
       "2      37642\n",
       "3      17224\n",
       "0      17143\n",
       "4       7180\n",
       "5       2514\n",
       "6        834\n",
       "7+       677\n",
       "Name: bedrooms_str, dtype: int64"
      ]
     },
     "metadata": {},
     "execution_count": 148
    }
   ],
   "source": [
    "X_train.bedrooms_str.value_counts()"
   ]
  },
  {
   "cell_type": "code",
   "execution_count": 149,
   "metadata": {},
   "outputs": [
    {
     "output_type": "execute_result",
     "data": {
      "text/plain": [
       "1      83298\n",
       "2      45899\n",
       "3      22754\n",
       "4      13646\n",
       "5       5881\n",
       "0       5093\n",
       "6       3344\n",
       "7       1599\n",
       "10+     1467\n",
       "8       1191\n",
       "9        588\n",
       "Name: beds_str, dtype: int64"
      ]
     },
     "metadata": {},
     "execution_count": 149
    }
   ],
   "source": [
    "X_train.beds_str.value_counts()"
   ]
  },
  {
   "cell_type": "code",
   "execution_count": null,
   "metadata": {},
   "outputs": [],
   "source": []
  }
 ]
}