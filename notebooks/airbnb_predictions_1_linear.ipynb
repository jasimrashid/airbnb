{
 "metadata": {
  "language_info": {
   "codemirror_mode": {
    "name": "ipython",
    "version": 3
   },
   "file_extension": ".py",
   "mimetype": "text/x-python",
   "name": "python",
   "nbconvert_exporter": "python",
   "pygments_lexer": "ipython3",
   "version": "3.7.6-final"
  },
  "orig_nbformat": 2,
  "kernelspec": {
   "name": "python37664bitbaseconda062aaadf6fe649f9beb295b82a5e77a6",
   "display_name": "Python 3.7.6 64-bit ('base': conda)",
   "language": "python"
  }
 },
 "nbformat": 4,
 "nbformat_minor": 2,
 "cells": [
  {
   "cell_type": "code",
   "execution_count": 5,
   "metadata": {},
   "outputs": [],
   "source": [
    "import pandas as pd\n",
    "import os\n",
    "import seaborn as sns\n",
    "from time import time\n",
    "path = '../data/'\n",
    "\n",
    "df = pd.read_csv(os.path.join(path,'airbnb_listings_usa_cycle_1.csv'))\n",
    "\n",
    "# df=df[:10000]"
   ]
  },
  {
   "cell_type": "code",
   "execution_count": 2,
   "metadata": {},
   "outputs": [],
   "source": [
    "pd.set_option('display.max_rows', 40)\n",
    "pd.set_option('display.max_columns', 100)"
   ]
  },
  {
   "source": [
    "Strategy\n",
    "\n",
    "Baseline: mean\n",
    "Jasim's baseline: multiple regression model with selected dependent variables. \n",
    "\n",
    "1. linear regression\n",
    "2. decision tree\n",
    "3. ensemble\n",
    "\n",
    "-- go into pricing models\n",
    "\n",
    "4. neural network\n",
    "\n",
    "stretch goal: the google airline algo recommendation!!!\n",
    "\n"
   ],
   "cell_type": "markdown",
   "metadata": {}
  },
  {
   "source": [
    "Test train split\n",
    "\n",
    "split by time -> not perfect but proxy perhaps\n",
    "df['last_review'] = pd.to_datetime(df.last_review)\n",
    "\n",
    "Splitting by time is not approprirate because a majority of our dataset is spread throughout 2020 including the period before and after the pandemic, which as we know has impacted prices. "
   ],
   "cell_type": "markdown",
   "metadata": {}
  },
  {
   "cell_type": "code",
   "execution_count": 8,
   "metadata": {},
   "outputs": [],
   "source": [
    "# 1. Import the appropriate estimator class from Scikit-Learn\n",
    "from sklearn.linear_model import LinearRegression"
   ]
  },
  {
   "cell_type": "code",
   "execution_count": 9,
   "metadata": {},
   "outputs": [],
   "source": [
    "# 2. Instantiate this class\n",
    "model = LinearRegression()"
   ]
  },
  {
   "cell_type": "code",
   "execution_count": 10,
   "metadata": {},
   "outputs": [],
   "source": [
    "# 3. Arrange X features matrix & y target vector\n",
    "\n",
    "target = ['price']\n",
    "\n",
    "features = ['host_response_time','host_response_rate','host_acceptance_rate',\n",
    "'street','neighbourhood','neighbourhood_cleansed','neighbourhood_group_cleansed','city','state','zipcode','market','smart_location','latitude','longitude','property_type','room_type','accommodates','bathrooms','bedrooms','beds','bed_type','amenities','square_feet','minimum_nights','maximum_nights','instant_bookable','is_business_travel_ready','cancellation_policy','require_guest_profile_picture','require_guest_phone_verification','notes_len','transit_len','access_len','interaction_len','house_rules_len','host_about_len','metro_area','bedrooms_str','beds_str']\n",
    "\n",
    "# Wrangle and pre-process\n",
    "\n",
    "# Removing sparse features from features (sparse features are <90% populated)\n",
    "sparse_features = ['square_feet','neighbourhood_group_cleansed','host_response_rate','host_response_time','neighbourhood','host_acceptance_rate']\n",
    "\n",
    "unusable_features = ['amenities']\n",
    "\n",
    "duplicative_location_features = ['street','neighbourhood','neighbourhood_cleansed','neighbourhood_group_cleansed','city','state','zipcode','market','smart_location','metro_area']\n",
    "\n",
    "numeric_columns = df.dtypes[df.dtypes==int].index.tolist()\n",
    "nonnumeric_columns = df.dtypes[df.dtypes==object].index.tolist()\n",
    "\n",
    "df[nonnumeric_columns] = df[nonnumeric_columns].astype(str)\n",
    "\n",
    "selected_features = list(set(features) - set(sparse_features))\n",
    "selected_features = list(set(selected_features) - set(unusable_features))\n",
    "selected_features = list(set(selected_features) - set(duplicative_location_features))\n",
    "\n",
    "df = df[target + selected_features]\n",
    "\n",
    "df.dropna(inplace=True)"
   ]
  },
  {
   "cell_type": "code",
   "execution_count": 11,
   "metadata": {},
   "outputs": [
    {
     "output_type": "execute_result",
     "data": {
      "text/plain": [
       "((230950, 1), (230950, 24))"
      ]
     },
     "metadata": {},
     "execution_count": 11
    }
   ],
   "source": [
    "y = df[target]\n",
    "X = df[selected_features]\n",
    "y.shape, X.shape\n"
   ]
  },
  {
   "cell_type": "code",
   "execution_count": 12,
   "metadata": {},
   "outputs": [],
   "source": [
    "from sklearn.model_selection import train_test_split\n",
    "X_train, X_test, y_train, y_test = train_test_split(X,y, test_size=.2, random_state=42)\n",
    "\n"
   ]
  },
  {
   "cell_type": "code",
   "execution_count": 13,
   "metadata": {},
   "outputs": [],
   "source": [
    "# We need to encode features!\n",
    "\n",
    "from sklearn.preprocessing import OrdinalEncoder\n",
    "from sklearn.preprocessing import OneHotEncoder\n",
    "from sklearn.metrics import mean_absolute_error\n",
    "import category_encoders as ce\n"
   ]
  },
  {
   "cell_type": "code",
   "execution_count": 14,
   "metadata": {},
   "outputs": [
    {
     "output_type": "execute_result",
     "data": {
      "text/plain": [
       "5.915673732757568"
      ]
     },
     "metadata": {},
     "execution_count": 14
    }
   ],
   "source": [
    "st = time()\n",
    "encoder = ce.OneHotEncoder(use_cat_names=True)\n",
    "X_train = encoder.fit_transform(X_train)\n",
    "X_test = encoder.transform(X_test)\n",
    "et = time()\n",
    "et-st"
   ]
  },
  {
   "cell_type": "code",
   "execution_count": 16,
   "metadata": {},
   "outputs": [
    {
     "output_type": "stream",
     "name": "stdout",
     "text": [
      "(184760, 107)\n"
     ]
    }
   ],
   "source": [
    "print(X_train.shape)"
   ]
  },
  {
   "source": [
    "Ok, the simple linear regression was taking too long. Looking at the shape of our 1-hot enodeded X_train, something seems not right. Does X_train have 507645 columns? Is this possible? \n",
    "\n",
    "Let's look at the cardinality of our categorical features"
   ],
   "cell_type": "markdown",
   "metadata": {}
  },
  {
   "cell_type": "code",
   "execution_count": 19,
   "metadata": {},
   "outputs": [
    {
     "output_type": "execute_result",
     "data": {
      "text/plain": [
       "297260"
      ]
     },
     "metadata": {},
     "execution_count": 19
    }
   ],
   "source": [
    "df.nunique().sum()"
   ]
  },
  {
   "source": [
    "Explainable cardinality: \n",
    "'amenities' is a dictionary of values.\n",
    "\n",
    "Unexplainable cardinality:\n",
    "'latitude' and 'longitude'\n",
    "\n",
    "(side track: going into experiment mode. when unsure if logic is not behaving like you expect, test with a sample row-wise and column-wise.)"
   ],
   "cell_type": "markdown",
   "metadata": {}
  },
  {
   "cell_type": "code",
   "execution_count": 20,
   "metadata": {},
   "outputs": [
    {
     "output_type": "stream",
     "name": "stdout",
     "text": [
      "mae $179\n"
     ]
    }
   ],
   "source": [
    "# Fit the model / \"train the model and estimate the MAE\"\n",
    "st = time()\n",
    "model.fit(X_train, y_train)\n",
    "y_pred = model.predict(X_test)\n",
    "mae = mean_absolute_error(y_test, y_pred)\n",
    "print(f'mae ${mae:,.0f}')\n",
    "et = time()"
   ]
  },
  {
   "cell_type": "code",
   "execution_count": 95,
   "metadata": {},
   "outputs": [
    {
     "output_type": "stream",
     "name": "stdout",
     "text": [
      "mae $210\n"
     ]
    }
   ],
   "source": [
    "# The MAE of the baseline\"\n",
    "st = time()\n",
    "y_pred = [y_train.mean()] * len(X_test)\n",
    "mae = mean_absolute_error(y_test, y_pred)\n",
    "print(f'mae ${mae:,.0f}')\n",
    "et = time()"
   ]
  },
  {
   "source": [
    "Jasim's excel principle:\n",
    "\n",
    "Sometimes it's just easy to excel it out!\n",
    "\n",
    "sometimes a GUI just helps improve the thought process\n",
    "\n",
    "\n",
    "selected some features:\n"
   ],
   "cell_type": "markdown",
   "metadata": {}
  },
  {
   "source": [
    "Research point:\n",
    "Leaky features??\n",
    "Some features like # of reviews, ratings, etc. are an outcome of being successful as a host, which is also an outcom.\n",
    "\n",
    "Independence of features:\n",
    " \"The coefficient estimates for Ordinary Least Squares rely on the independence of the features. When features are correlated and the columns of the design matrix  have an approximate linear dependence, the design matrix becomes close to singular and as a result, the least-squares estimate becomes highly sensitive to random errors in the observed target, producing a large variance. This situation of multicollinearity can arise, for example, when data are collected without an experimental design.\"\n",
    "\n",
    "Q1: does this also apply when we use decision trees, random forests or ensemble methods? \n",
    "\n",
    "Q2: Do we apply the chi-square test?\n",
    "\n",
    "\n",
    "\n"
   ],
   "cell_type": "markdown",
   "metadata": {}
  },
  {
   "source": [
    "Appendix: additional pre-processing"
   ],
   "cell_type": "markdown",
   "metadata": {}
  },
  {
   "cell_type": "code",
   "execution_count": 96,
   "metadata": {},
   "outputs": [
    {
     "output_type": "execute_result",
     "data": {
      "text/plain": [
       "require_guest_phone_verification    0.0\n",
       "longitude                           0.0\n",
       "bedrooms                            0.0\n",
       "beds                                0.0\n",
       "transit_len                         0.0\n",
       "dtype: float64"
      ]
     },
     "metadata": {},
     "execution_count": 96
    }
   ],
   "source": [
    "# Display % of nulls\n",
    "df.isnull().mean().sort_values(ascending=False)[:5]"
   ]
  },
  {
   "source": [
    "Drop features that are too sparse! Imputing them might distort the results. Let's call them \"sparse_features\", the threshold for sparsity being <90%\n"
   ],
   "cell_type": "markdown",
   "metadata": {}
  },
  {
   "source": [
    "Ridge regression:\n",
    "\n",
    "the best model is in the \"sweet spot\" in the tradeoff between bias and variance.\n",
    "bias --> overweigh \n",
    "variance --> \n",
    "\n",
    "\"bias of an estimator is the difference between this estimator's expected value and the true value of the parameter being estimated.\"\n",
    "\"tendency to overestimate or underestimate a parameter\"\n",
    "\n",
    "one way to look at it. your \"model\" has a preconeived view. data shows otherwise, thus you are biased. a tendency to hold on to a preconeived view despite data showing otherewise.\n",
    "\n",
    "variance. the way hte concept is phrased makes it seem as if it is the opposite.\n",
    "\n",
    "...\n",
    "\n",
    "one way to reduce overfitting for training set is to regularize.\n",
    "\n",
    "Ridge regression introduces bias into how a regression line fits the data. So we trade in variance with bias, which reduces the fit for the training set but may improve the fit for the test set, which meansbetter long term predictions.\n"
   ],
   "cell_type": "markdown",
   "metadata": {}
  },
  {
   "cell_type": "code",
   "execution_count": 21,
   "metadata": {},
   "outputs": [],
   "source": [
    "from sklearn.linear_model import Ridge"
   ]
  },
  {
   "cell_type": "code",
   "execution_count": 27,
   "metadata": {},
   "outputs": [
    {
     "output_type": "stream",
     "name": "stdout",
     "text": [
      "mae $169\n"
     ]
    }
   ],
   "source": [
    "st = time()\n",
    "ridge = Ridge(alpha = .5, normalize=True)\n",
    "ridge.fit(X_train, y_train)\n",
    "y_pred = ridge.predict(X_test)\n",
    "mae = mean_absolute_error(y_test, y_pred)\n",
    "print(f'mae ${mae:,.0f}')\n",
    "et = time()\n"
   ]
  },
  {
   "cell_type": "code",
   "execution_count": 24,
   "metadata": {},
   "outputs": [
    {
     "output_type": "stream",
     "name": "stdout",
     "text": [
      "mae $169\n"
     ]
    }
   ],
   "source": [
    "st = time()\n",
    "# ridge = Ridge(alpha = 0, normalize=True) # mae $2,173,408,237\n",
    "# ridge = Ridge(alpha = .1, normalize=True) #mae $175\n",
    "# ridge = Ridge(alpha = .2, normalize=True) #mae $172\n",
    "# ridge = Ridge(alpha = .4, normalize=True) # mae $170\n",
    "# ridge = Ridge(alpha = .6, normalize=True) #mae $168\n",
    "# ridge = Ridge(alpha = .8, normalize=True) #mae $168\n",
    "# ridge = Ridge(alpha = 1, normalize=True) #mae $168\n",
    "ridge.fit(X_train, y_train)\n",
    "y_pred = ridge.predict(X_test)\n",
    "mae = mean_absolute_error(y_test, y_pred)\n",
    "print(f'mae ${mae:,.0f}')\n",
    "et = time()\n"
   ]
  },
  {
   "source": [
    "The optimal alpha is probably around 0.6. Adding bias has diminishing returns past. "
   ],
   "cell_type": "markdown",
   "metadata": {}
  },
  {
   "source": [
    "How else could we improve predictive accuracy? \n",
    "\n",
    "Feature engineering and feature selection - using domain knowledge\n",
    "\n",
    "Or we can use KBest\n",
    "\n"
   ],
   "cell_type": "markdown",
   "metadata": {}
  },
  {
   "cell_type": "code",
   "execution_count": 25,
   "metadata": {},
   "outputs": [
    {
     "output_type": "execute_result",
     "data": {
      "text/plain": [
       "(184760, 107)"
      ]
     },
     "metadata": {},
     "execution_count": 25
    }
   ],
   "source": [
    "# Currently we have 107 features, post 1-hot encoding. Will 1-hot encoding distort KBest? \n",
    "X_train.shape"
   ]
  },
  {
   "cell_type": "code",
   "execution_count": 28,
   "metadata": {},
   "outputs": [],
   "source": [
    "from sklearn.feature_selection import SelectKBest\n",
    "selector = SelectKBest(k=15) #going down from 107 features to 15???"
   ]
  },
  {
   "cell_type": "code",
   "execution_count": 29,
   "metadata": {},
   "outputs": [],
   "source": [
    "X_train_selected = selector.fit_transform(X_train, y_train)\n",
    "X_test_selected = selector.transform(X_test)"
   ]
  },
  {
   "cell_type": "code",
   "execution_count": 30,
   "metadata": {},
   "outputs": [
    {
     "output_type": "execute_result",
     "data": {
      "text/plain": [
       "array([[2. , 1. , 0. , ..., 1. , 0. , 0. ],\n",
       "       [1. , 1. , 0. , ..., 1. , 0. , 0. ],\n",
       "       [2. , 1.5, 0. , ..., 1. , 0. , 0. ],\n",
       "       ...,\n",
       "       [1. , 1. , 0. , ..., 1. , 0. , 0. ],\n",
       "       [1. , 1. , 0. , ..., 1. , 0. , 0. ],\n",
       "       [1. , 1. , 0. , ..., 1. , 0. , 0. ]])"
      ]
     },
     "metadata": {},
     "execution_count": 30
    }
   ],
   "source": [
    "X_train_selected"
   ]
  },
  {
   "cell_type": "code",
   "execution_count": 31,
   "metadata": {},
   "outputs": [
    {
     "output_type": "stream",
     "name": "stdout",
     "text": [
      "Features selected:\nbedrooms\nbathrooms\nproperty_type_Villa\nbeds_str_1\nbeds\nbedrooms_str_1\nbedrooms_str_7+\naccommodates\ncancellation_policy_super_strict_60\ncancellation_policy_luxury_moderate\ncancellation_policy_luxury_super_strict_95\ncancellation_policy_luxury_no_refund\nroom_type_Entire home/apt\nroom_type_Private room\nroom_type_Shared room\n\nFeatures excluded:\nlongitude\nis_business_travel_ready_f\nrequire_guest_phone_verification_f\nrequire_guest_phone_verification_t\nmaximum_nights\nlatitude\ninstant_bookable_f\ninstant_bookable_t\nproperty_type_Condominium\nproperty_type_Serviced apartment\nproperty_type_Apartment\nproperty_type_House\nproperty_type_Guesthouse\nproperty_type_Townhouse\nproperty_type_Loft\nproperty_type_Boutique hotel\nproperty_type_Guest suite\nproperty_type_Cottage\nproperty_type_Bungalow\nproperty_type_Resort\nproperty_type_Hostel\nproperty_type_Bed and breakfast\nproperty_type_Nature lodge\nproperty_type_Hotel\nproperty_type_Camper/RV\nproperty_type_Tiny house\nproperty_type_Other\nproperty_type_Aparthotel\nproperty_type_Boat\nproperty_type_Treehouse\nproperty_type_Cabin\nproperty_type_Farm stay\nproperty_type_Dome house\nproperty_type_Igloo\nproperty_type_Houseboat\nproperty_type_Earth house\nproperty_type_Tent\nproperty_type_Barn\nproperty_type_Campsite\nproperty_type_Island\nproperty_type_Chalet\nproperty_type_Pension (South Korea)\nproperty_type_Casa particular (Cuba)\nproperty_type_Cave\nproperty_type_Yurt\nproperty_type_Castle\nproperty_type_Timeshare\nproperty_type_Bus\nproperty_type_Hut\nproperty_type_Lighthouse\nproperty_type_Tipi\nproperty_type_Vacation home\nproperty_type_In-law\nproperty_type_Train\nproperty_type_Dorm\nbeds_str_2\nbeds_str_5\nbeds_str_3\nbeds_str_0\nbeds_str_4\nbeds_str_6\nbeds_str_7\nbeds_str_10+\nbeds_str_9\nbeds_str_8\ntransit_len\nbedrooms_str_2\nbedrooms_str_5\nbedrooms_str_3\nbedrooms_str_0\nbedrooms_str_4\nbedrooms_str_6\nrequire_guest_profile_picture_f\nrequire_guest_profile_picture_t\ninteraction_len\naccess_len\ncancellation_policy_strict_14_with_grace_period\ncancellation_policy_flexible\ncancellation_policy_moderate\ncancellation_policy_super_strict_30\ncancellation_policy_strict\ncancellation_policy_luxury_super_strict_125\nroom_type_Hotel room\nhouse_rules_len\nbed_type_Real Bed\nbed_type_Pull-out Sofa\nbed_type_Couch\nbed_type_Airbed\nbed_type_Futon\nminimum_nights\nnotes_len\nhost_about_len\n"
     ]
    }
   ],
   "source": [
    "selected_mask = selector.get_support()\n",
    "all_names = X_train.columns\n",
    "selected_names = all_names[selected_mask]\n",
    "unselected_names = all_names[~selected_mask]\n",
    "\n",
    "print ('Features selected:')\n",
    "for name in selected_names:\n",
    "  print (name)\n",
    "\n",
    "print()\n",
    "\n",
    "print ('Features excluded:')\n",
    "for name in unselected_names:\n",
    "  print (name)"
   ]
  },
  {
   "cell_type": "code",
   "execution_count": 32,
   "metadata": {},
   "outputs": [
    {
     "output_type": "stream",
     "name": "stdout",
     "text": [
      "mae $167\n"
     ]
    }
   ],
   "source": [
    "# Ridge alpha .1 mae insensitive to change in alpha\n",
    "st = time()\n",
    "ridge = Ridge(alpha = .1, normalize=True) #mae $175\n",
    "ridge.fit(X_train_selected, y_train)\n",
    "y_pred = ridge.predict(X_test_selected)\n",
    "mae = mean_absolute_error(y_test, y_pred)\n",
    "print(f'mae ${mae:,.0f}')\n",
    "et = time()\n"
   ]
  },
  {
   "cell_type": "code",
   "execution_count": 36,
   "metadata": {},
   "outputs": [
    {
     "output_type": "stream",
     "name": "stdout",
     "text": [
      "mae $167\n"
     ]
    }
   ],
   "source": [
    "# Fit the model / \"train the model and estimate the MAE\"\n",
    "st = time()\n",
    "model.fit(X_train_selected, y_train)\n",
    "y_pred = model.predict(X_test_selected)\n",
    "mae = mean_absolute_error(y_test, y_pred)\n",
    "print(f'mae ${mae:,.0f}')\n",
    "et = time()"
   ]
  },
  {
   "source": [
    "#### Pickle the model\n",
    "\n",
    "* save the model to a file.\n",
    "* then reconstitude the model from the file.\n",
    "* avoids having to re-train the model after the first time. \"once you save your model as a pickle, you can load it later while making the prediction\"\n",
    "\n",
    "* aka serialization, marshalling or flattening\n",
    "\n",
    "> for deployability, we will use a linear model since it has faster run-time than say a tree-based model. Simpler models also come with the added benefit of interpretability (e.g. it is more important to see the correlation a fthiseature and a problem than increasing the predictive accuracy)\n",
    "\n",
    "> **definition**:\n",
    "Pickling - is the process whereby a Python object hierarchy is converted into a byte stream, and Unpickling - is the inverse operation, whereby a byte stream is converted back into an object hierarchy.\n",
    "\n",
    "> Pickling (and unpickling) is alternatively known as serialization, marshalling, or flattening.\n",
    "\n",
    "> byte stream: an ordered sequence of bytes\n"
   ],
   "cell_type": "markdown",
   "metadata": {}
  },
  {
   "source": [
    "#### Pickling a linear model\n",
    "\n",
    "776 bytes"
   ],
   "cell_type": "markdown",
   "metadata": {}
  },
  {
   "cell_type": "code",
   "execution_count": 37,
   "metadata": {},
   "outputs": [],
   "source": [
    "# Save a model using pickle\n",
    "import pickle\n",
    "import os\n",
    "\n",
    "# MODEL_FILEPATH = os.path.join(os.path.dirname(__file__),\"model.pkl\")\n",
    "with open('linear_model.pkl','wb') as model_file:\n",
    "    pickle.dump(model, model_file)\n",
    "\n",
    "# linear_model: 776bytes\n"
   ]
  },
  {
   "cell_type": "code",
   "execution_count": 38,
   "metadata": {},
   "outputs": [],
   "source": [
    "# Load the model and do a predict\n",
    "\n",
    "with open('linear_model.pkl','rb') as model_file:\n",
    "    loaded_model = pickle.load(model_file)"
   ]
  },
  {
   "cell_type": "code",
   "execution_count": 39,
   "metadata": {},
   "outputs": [
    {
     "output_type": "execute_result",
     "data": {
      "text/plain": [
       "array([[217.11297934],\n",
       "       [178.66686964]])"
      ]
     },
     "metadata": {},
     "execution_count": 39
    }
   ],
   "source": [
    "loaded_model.predict(X_train_selected[:2,:])\n",
    "\n",
    "## Note this loads the last model"
   ]
  },
  {
   "source": [
    "#### Pickling the ridge regression\n",
    "\n",
    "621 bytes\n",
    "\n",
    "\n"
   ],
   "cell_type": "markdown",
   "metadata": {}
  },
  {
   "cell_type": "code",
   "execution_count": 40,
   "metadata": {},
   "outputs": [],
   "source": [
    "# save model\n",
    "with open('ridge_reg_model.pkl','wb') as model_file:\n",
    "    pickle.dump(ridge, model_file)"
   ]
  },
  {
   "cell_type": "code",
   "execution_count": 41,
   "metadata": {},
   "outputs": [],
   "source": [
    "# load model\n",
    "with open('ridge_reg_model.pkl','rb') as model_file:\n",
    "    loaded_model = pickle.load(model_file)"
   ]
  },
  {
   "cell_type": "code",
   "execution_count": 42,
   "metadata": {},
   "outputs": [
    {
     "output_type": "execute_result",
     "data": {
      "text/plain": [
       "array([[227.2735363],\n",
       "       [175.3132717]])"
      ]
     },
     "metadata": {},
     "execution_count": 42
    }
   ],
   "source": [
    "# testing prediction\n",
    "loaded_model.predict(X_train_selected[:2,:])"
   ]
  },
  {
   "cell_type": "code",
   "execution_count": 113,
   "metadata": {},
   "outputs": [],
   "source": [
    "import numpy as np\n",
    "np.savetxt(\"x_train.csv\",X_train_selected,delimiter=\",\")"
   ]
  },
  {
   "cell_type": "code",
   "execution_count": 114,
   "metadata": {},
   "outputs": [
    {
     "output_type": "execute_result",
     "data": {
      "text/plain": [
       "        bedrooms  beds  bathrooms  bedrooms_str_1  bedrooms_str_7+  \\\n",
       "39931        2.0   2.0        1.0               0                0   \n",
       "217369       1.0   1.0        1.0               1                0   \n",
       "153008       2.0   2.0        1.5               0                0   \n",
       "180362       5.0   5.0        2.5               0                0   \n",
       "86132        1.0   2.0        1.0               1                0   \n",
       "...          ...   ...        ...             ...              ...   \n",
       "120860       1.0   1.0        1.0               1                0   \n",
       "104426       1.0   1.0        1.0               1                0   \n",
       "132975       1.0   1.0        1.0               1                0   \n",
       "147923       1.0   0.0        1.0               1                0   \n",
       "122986       1.0   1.0        1.0               1                0   \n",
       "\n",
       "        room_type_Entire home/apt  room_type_Private room  \\\n",
       "39931                           1                       0   \n",
       "217369                          1                       0   \n",
       "153008                          1                       0   \n",
       "180362                          1                       0   \n",
       "86132                           1                       0   \n",
       "...                           ...                     ...   \n",
       "120860                          1                       0   \n",
       "104426                          1                       0   \n",
       "132975                          1                       0   \n",
       "147923                          1                       0   \n",
       "122986                          1                       0   \n",
       "\n",
       "        room_type_Shared room  beds_str_1  property_type_Villa  accommodates  \\\n",
       "39931                       0           0                    0             5   \n",
       "217369                      0           1                    0             3   \n",
       "153008                      0           0                    0             4   \n",
       "180362                      0           0                    0            10   \n",
       "86132                       0           0                    0             3   \n",
       "...                       ...         ...                  ...           ...   \n",
       "120860                      0           1                    0             2   \n",
       "104426                      0           1                    0             4   \n",
       "132975                      0           1                    0             2   \n",
       "147923                      0           0                    0             1   \n",
       "122986                      0           1                    0             2   \n",
       "\n",
       "        cancellation_policy_super_strict_60  \\\n",
       "39931                                     0   \n",
       "217369                                    0   \n",
       "153008                                    0   \n",
       "180362                                    0   \n",
       "86132                                     0   \n",
       "...                                     ...   \n",
       "120860                                    0   \n",
       "104426                                    0   \n",
       "132975                                    0   \n",
       "147923                                    0   \n",
       "122986                                    0   \n",
       "\n",
       "        cancellation_policy_luxury_moderate  \\\n",
       "39931                                     0   \n",
       "217369                                    0   \n",
       "153008                                    0   \n",
       "180362                                    0   \n",
       "86132                                     0   \n",
       "...                                     ...   \n",
       "120860                                    0   \n",
       "104426                                    0   \n",
       "132975                                    0   \n",
       "147923                                    0   \n",
       "122986                                    0   \n",
       "\n",
       "        cancellation_policy_luxury_super_strict_95  \\\n",
       "39931                                            0   \n",
       "217369                                           0   \n",
       "153008                                           0   \n",
       "180362                                           0   \n",
       "86132                                            0   \n",
       "...                                            ...   \n",
       "120860                                           0   \n",
       "104426                                           0   \n",
       "132975                                           0   \n",
       "147923                                           0   \n",
       "122986                                           0   \n",
       "\n",
       "        cancellation_policy_luxury_no_refund  \n",
       "39931                                      0  \n",
       "217369                                     0  \n",
       "153008                                     0  \n",
       "180362                                     0  \n",
       "86132                                      0  \n",
       "...                                      ...  \n",
       "120860                                     0  \n",
       "104426                                     0  \n",
       "132975                                     0  \n",
       "147923                                     0  \n",
       "122986                                     0  \n",
       "\n",
       "[184760 rows x 15 columns]"
      ],
      "text/html": "<div>\n<style scoped>\n    .dataframe tbody tr th:only-of-type {\n        vertical-align: middle;\n    }\n\n    .dataframe tbody tr th {\n        vertical-align: top;\n    }\n\n    .dataframe thead th {\n        text-align: right;\n    }\n</style>\n<table border=\"1\" class=\"dataframe\">\n  <thead>\n    <tr style=\"text-align: right;\">\n      <th></th>\n      <th>bedrooms</th>\n      <th>beds</th>\n      <th>bathrooms</th>\n      <th>bedrooms_str_1</th>\n      <th>bedrooms_str_7+</th>\n      <th>room_type_Entire home/apt</th>\n      <th>room_type_Private room</th>\n      <th>room_type_Shared room</th>\n      <th>beds_str_1</th>\n      <th>property_type_Villa</th>\n      <th>accommodates</th>\n      <th>cancellation_policy_super_strict_60</th>\n      <th>cancellation_policy_luxury_moderate</th>\n      <th>cancellation_policy_luxury_super_strict_95</th>\n      <th>cancellation_policy_luxury_no_refund</th>\n    </tr>\n  </thead>\n  <tbody>\n    <tr>\n      <th>39931</th>\n      <td>2.0</td>\n      <td>2.0</td>\n      <td>1.0</td>\n      <td>0</td>\n      <td>0</td>\n      <td>1</td>\n      <td>0</td>\n      <td>0</td>\n      <td>0</td>\n      <td>0</td>\n      <td>5</td>\n      <td>0</td>\n      <td>0</td>\n      <td>0</td>\n      <td>0</td>\n    </tr>\n    <tr>\n      <th>217369</th>\n      <td>1.0</td>\n      <td>1.0</td>\n      <td>1.0</td>\n      <td>1</td>\n      <td>0</td>\n      <td>1</td>\n      <td>0</td>\n      <td>0</td>\n      <td>1</td>\n      <td>0</td>\n      <td>3</td>\n      <td>0</td>\n      <td>0</td>\n      <td>0</td>\n      <td>0</td>\n    </tr>\n    <tr>\n      <th>153008</th>\n      <td>2.0</td>\n      <td>2.0</td>\n      <td>1.5</td>\n      <td>0</td>\n      <td>0</td>\n      <td>1</td>\n      <td>0</td>\n      <td>0</td>\n      <td>0</td>\n      <td>0</td>\n      <td>4</td>\n      <td>0</td>\n      <td>0</td>\n      <td>0</td>\n      <td>0</td>\n    </tr>\n    <tr>\n      <th>180362</th>\n      <td>5.0</td>\n      <td>5.0</td>\n      <td>2.5</td>\n      <td>0</td>\n      <td>0</td>\n      <td>1</td>\n      <td>0</td>\n      <td>0</td>\n      <td>0</td>\n      <td>0</td>\n      <td>10</td>\n      <td>0</td>\n      <td>0</td>\n      <td>0</td>\n      <td>0</td>\n    </tr>\n    <tr>\n      <th>86132</th>\n      <td>1.0</td>\n      <td>2.0</td>\n      <td>1.0</td>\n      <td>1</td>\n      <td>0</td>\n      <td>1</td>\n      <td>0</td>\n      <td>0</td>\n      <td>0</td>\n      <td>0</td>\n      <td>3</td>\n      <td>0</td>\n      <td>0</td>\n      <td>0</td>\n      <td>0</td>\n    </tr>\n    <tr>\n      <th>...</th>\n      <td>...</td>\n      <td>...</td>\n      <td>...</td>\n      <td>...</td>\n      <td>...</td>\n      <td>...</td>\n      <td>...</td>\n      <td>...</td>\n      <td>...</td>\n      <td>...</td>\n      <td>...</td>\n      <td>...</td>\n      <td>...</td>\n      <td>...</td>\n      <td>...</td>\n    </tr>\n    <tr>\n      <th>120860</th>\n      <td>1.0</td>\n      <td>1.0</td>\n      <td>1.0</td>\n      <td>1</td>\n      <td>0</td>\n      <td>1</td>\n      <td>0</td>\n      <td>0</td>\n      <td>1</td>\n      <td>0</td>\n      <td>2</td>\n      <td>0</td>\n      <td>0</td>\n      <td>0</td>\n      <td>0</td>\n    </tr>\n    <tr>\n      <th>104426</th>\n      <td>1.0</td>\n      <td>1.0</td>\n      <td>1.0</td>\n      <td>1</td>\n      <td>0</td>\n      <td>1</td>\n      <td>0</td>\n      <td>0</td>\n      <td>1</td>\n      <td>0</td>\n      <td>4</td>\n      <td>0</td>\n      <td>0</td>\n      <td>0</td>\n      <td>0</td>\n    </tr>\n    <tr>\n      <th>132975</th>\n      <td>1.0</td>\n      <td>1.0</td>\n      <td>1.0</td>\n      <td>1</td>\n      <td>0</td>\n      <td>1</td>\n      <td>0</td>\n      <td>0</td>\n      <td>1</td>\n      <td>0</td>\n      <td>2</td>\n      <td>0</td>\n      <td>0</td>\n      <td>0</td>\n      <td>0</td>\n    </tr>\n    <tr>\n      <th>147923</th>\n      <td>1.0</td>\n      <td>0.0</td>\n      <td>1.0</td>\n      <td>1</td>\n      <td>0</td>\n      <td>1</td>\n      <td>0</td>\n      <td>0</td>\n      <td>0</td>\n      <td>0</td>\n      <td>1</td>\n      <td>0</td>\n      <td>0</td>\n      <td>0</td>\n      <td>0</td>\n    </tr>\n    <tr>\n      <th>122986</th>\n      <td>1.0</td>\n      <td>1.0</td>\n      <td>1.0</td>\n      <td>1</td>\n      <td>0</td>\n      <td>1</td>\n      <td>0</td>\n      <td>0</td>\n      <td>1</td>\n      <td>0</td>\n      <td>2</td>\n      <td>0</td>\n      <td>0</td>\n      <td>0</td>\n      <td>0</td>\n    </tr>\n  </tbody>\n</table>\n<p>184760 rows × 15 columns</p>\n</div>"
     },
     "metadata": {},
     "execution_count": 114
    }
   ],
   "source": [
    "k_best = ['bedrooms','beds','bathrooms','bedrooms_str_1','bedrooms_str_7+','room_type_Entire home/apt','room_type_Private room','room_type_Shared room','beds_str_1','property_type_Villa','accommodates','cancellation_policy_super_strict_60','cancellation_policy_luxury_moderate','cancellation_policy_luxury_super_strict_95','cancellation_policy_luxury_no_refund']\n",
    "X_train[k_best]"
   ]
  },
  {
   "source": [
    "Optional: you can try other selection methods\n",
    "Also: try polynomial features"
   ],
   "cell_type": "markdown",
   "metadata": {}
  },
  {
   "source": [
    "_hello_"
   ],
   "cell_type": "markdown",
   "metadata": {}
  },
  {
   "source": [
    "_ * italic and bold\n",
    "#### header -> six levels\n",
    "\n",
    "links: \n",
    "inline links example\n",
    "[Search for it.](www.google.com)\n",
    "\n",
    "reference links(that multiple links to the same place only need to be updated once):\n",
    "Do you want to [see something fun][a fun place]?\n",
    "\n",
    "Well, do I have [the website for you][another fun place]!\n",
    "\n",
    "[a fun place]: www.zombo.com\n",
    "[another fun place]: www.stumbleupon.com\n",
    "\n",
    "\n",
    "images:\n",
    "inline image link\n",
    "\n",
    "reference imafge link![Black cat][Black]\n",
    "\n",
    "![Orange cat][Orange]\n",
    "\n",
    "[Black]: https://upload.wikimedia.org/wikipedia/commons/a/a3/81_INF_DIV_SSI.jpg\n",
    "[Orange]:https://upload.wikimedia.org/wikipedia/commons/a/a3/81_INF_DIV_SSI.jpg\n",
    "\n",
    "\n",
    "\n",
    "Blockquotes: \"carets\" >\n",
    "\n",
    "\n",
    "lists:\n",
    "\n",
    "unordered * bla\n",
    "ordered 1. bla\n",
    "space to indent! but stop at 3 levels\n",
    "\n",
    "soft breaks (vs hard break)>> use double spaces are end of line\n",
    "\n",
    "\n"
   ],
   "cell_type": "markdown",
   "metadata": {}
  },
  {
   "source": [
    "#### Using pipelines for linear regression"
   ],
   "cell_type": "markdown",
   "metadata": {}
  },
  {
   "cell_type": "code",
   "execution_count": 44,
   "metadata": {},
   "outputs": [],
   "source": [
    "y = df[target]\n",
    "X = df[selected_features]\n",
    "y.shape, X.shape\n",
    "\n",
    "from sklearn.model_selection import train_test_split\n",
    "X_train, X_test, y_train, y_test = train_test_split(X,y, test_size=.2, random_state=42)"
   ]
  },
  {
   "cell_type": "code",
   "execution_count": 45,
   "metadata": {},
   "outputs": [],
   "source": [
    "# User pipelines for linear regression\n",
    "import category_encoders as ce\n",
    "from sklearn.pipeline import make_pipeline\n",
    "from sklearn.linear_model import LinearRegression\n",
    "from sklearn.impute import SimpleImputer\n",
    "\n",
    "pipeline = make_pipeline(\n",
    "    ce.OneHotEncoder(use_cat_names=True),\n",
    "    SimpleImputer(strategy='mean'),\n",
    "    LinearRegression()\n",
    ")\n",
    "\n",
    "\n"
   ]
  },
  {
   "cell_type": "code",
   "execution_count": 46,
   "metadata": {},
   "outputs": [
    {
     "output_type": "stream",
     "name": "stdout",
     "text": [
      "Train Accuracy 0.15518025396037005\n",
      "Test Accuracy 0.7990731248446383 does not seem right\n",
      "mae $179\n"
     ]
    }
   ],
   "source": [
    "pipeline.fit(X_train, y_train)\n",
    "\n",
    "print('Train Accuracy', pipeline.score(X_train, y_train))\n",
    "print('Test Accuracy', pipeline.score(X_test, y_pred),\"does not seem right\")\n",
    "\n",
    "y_pred = pipeline.predict(X_test)\n",
    "mae = mean_absolute_error(y_test, y_pred)\n",
    "print(f'mae ${mae:,.0f}')"
   ]
  },
  {
   "cell_type": "code",
   "execution_count": 47,
   "metadata": {},
   "outputs": [],
   "source": [
    "# Save pipeline \n",
    "with open('linear_model_pipeline.pkl','wb') as model_file:\n",
    "    pickle.dump(pipeline, model_file)\n"
   ]
  },
  {
   "cell_type": "code",
   "execution_count": 48,
   "metadata": {},
   "outputs": [],
   "source": [
    "# load model\n",
    "with open('linear_model_pipeline.pkl','rb') as model_file:\n",
    "    loaded_model = pickle.load(model_file)"
   ]
  },
  {
   "cell_type": "code",
   "execution_count": 49,
   "metadata": {},
   "outputs": [
    {
     "output_type": "execute_result",
     "data": {
      "text/plain": [
       "array([[134.00902037],\n",
       "       [194.95762565]])"
      ]
     },
     "metadata": {},
     "execution_count": 49
    }
   ],
   "source": [
    "# Run prediction\n",
    "loaded_model.predict(X_train.iloc[:2,:])\n",
    "\n",
    "# array([[134.01877682],[194.9625043 ]])"
   ]
  },
  {
   "cell_type": "code",
   "execution_count": 126,
   "metadata": {},
   "outputs": [
    {
     "output_type": "execute_result",
     "data": {
      "text/plain": [
       "        bedrooms  beds  transit_len  access_len  bathrooms bedrooms_str  \\\n",
       "39931        2.0   2.0          110         171        1.0            2   \n",
       "217369       1.0   1.0          287         317        1.0            1   \n",
       "153008       2.0   2.0            3           3        1.5            2   \n",
       "180362       5.0   5.0           63         132        2.5            5   \n",
       "86132        1.0   2.0          345          67        1.0            1   \n",
       "...          ...   ...          ...         ...        ...          ...   \n",
       "120860       1.0   1.0            3           3        1.0            1   \n",
       "104426       1.0   1.0          204           3        1.0            1   \n",
       "132975       1.0   1.0          567         168        1.0            1   \n",
       "147923       1.0   0.0          172          12        1.0            1   \n",
       "122986       1.0   1.0          129          41        1.0            1   \n",
       "\n",
       "       require_guest_profile_picture        room_type  latitude beds_str  \\\n",
       "39931                              f  Entire home/apt  39.95069        2   \n",
       "217369                             f  Entire home/apt  47.66101        1   \n",
       "153008                             f  Entire home/apt  40.82495        2   \n",
       "180362                             f  Entire home/apt  41.64919        5   \n",
       "86132                              f  Entire home/apt  34.03090        2   \n",
       "...                              ...              ...       ...      ...   \n",
       "120860                             f  Entire home/apt  40.79323        1   \n",
       "104426                             f  Entire home/apt  34.06525        1   \n",
       "132975                             f  Entire home/apt  40.71780        1   \n",
       "147923                             f  Entire home/apt  40.76457        0   \n",
       "122986                             f  Entire home/apt  40.71419        1   \n",
       "\n",
       "        longitude  minimum_nights       property_type  accommodates  \\\n",
       "39931   -82.98802               1         Condominium             5   \n",
       "217369 -122.34084              30  Serviced apartment             3   \n",
       "153008  -73.94023               1           Apartment             4   \n",
       "180362  -71.22206               3               House            10   \n",
       "86132  -118.26353              31           Apartment             3   \n",
       "...           ...             ...                 ...           ...   \n",
       "120860  -73.97267               5           Apartment             2   \n",
       "104426 -118.39569              31           Apartment             4   \n",
       "132975  -73.95595               4           Apartment             2   \n",
       "147923  -73.97518              30           Apartment             1   \n",
       "122986  -73.95042               7           Apartment             2   \n",
       "\n",
       "        notes_len  interaction_len instant_bookable  bed_type  host_about_len  \\\n",
       "39931           3              120                f  Real Bed               3   \n",
       "217369        455              270                t  Real Bed               3   \n",
       "153008          3                3                t  Real Bed               3   \n",
       "180362        127              383                f  Real Bed             316   \n",
       "86132           3              212                t  Real Bed               3   \n",
       "...           ...              ...              ...       ...             ...   \n",
       "120860          3                3                f  Real Bed              25   \n",
       "104426          3              122                f  Real Bed             467   \n",
       "132975          3              177                f  Real Bed             376   \n",
       "147923         40                3                f  Real Bed               3   \n",
       "122986          3                8                f  Real Bed              86   \n",
       "\n",
       "        house_rules_len is_business_travel_ready  maximum_nights  \\\n",
       "39931                67                        f            1125   \n",
       "217369              376                        f            1125   \n",
       "153008                3                        f              30   \n",
       "180362              114                        f            1125   \n",
       "86132                 3                        f             365   \n",
       "...                 ...                      ...             ...   \n",
       "120860                3                        f              60   \n",
       "104426               58                        f            1125   \n",
       "132975              137                        f              10   \n",
       "147923                3                        f            1125   \n",
       "122986              164                        f              27   \n",
       "\n",
       "                cancellation_policy require_guest_phone_verification  \n",
       "39931   strict_14_with_grace_period                                f  \n",
       "217369  strict_14_with_grace_period                                f  \n",
       "153008                     flexible                                f  \n",
       "180362                     moderate                                f  \n",
       "86132   strict_14_with_grace_period                                f  \n",
       "...                             ...                              ...  \n",
       "120860                     moderate                                f  \n",
       "104426  strict_14_with_grace_period                                f  \n",
       "132975  strict_14_with_grace_period                                f  \n",
       "147923                     flexible                                f  \n",
       "122986                     flexible                                f  \n",
       "\n",
       "[184760 rows x 24 columns]"
      ],
      "text/html": "<div>\n<style scoped>\n    .dataframe tbody tr th:only-of-type {\n        vertical-align: middle;\n    }\n\n    .dataframe tbody tr th {\n        vertical-align: top;\n    }\n\n    .dataframe thead th {\n        text-align: right;\n    }\n</style>\n<table border=\"1\" class=\"dataframe\">\n  <thead>\n    <tr style=\"text-align: right;\">\n      <th></th>\n      <th>bedrooms</th>\n      <th>beds</th>\n      <th>transit_len</th>\n      <th>access_len</th>\n      <th>bathrooms</th>\n      <th>bedrooms_str</th>\n      <th>require_guest_profile_picture</th>\n      <th>room_type</th>\n      <th>latitude</th>\n      <th>beds_str</th>\n      <th>longitude</th>\n      <th>minimum_nights</th>\n      <th>property_type</th>\n      <th>accommodates</th>\n      <th>notes_len</th>\n      <th>interaction_len</th>\n      <th>instant_bookable</th>\n      <th>bed_type</th>\n      <th>host_about_len</th>\n      <th>house_rules_len</th>\n      <th>is_business_travel_ready</th>\n      <th>maximum_nights</th>\n      <th>cancellation_policy</th>\n      <th>require_guest_phone_verification</th>\n    </tr>\n  </thead>\n  <tbody>\n    <tr>\n      <th>39931</th>\n      <td>2.0</td>\n      <td>2.0</td>\n      <td>110</td>\n      <td>171</td>\n      <td>1.0</td>\n      <td>2</td>\n      <td>f</td>\n      <td>Entire home/apt</td>\n      <td>39.95069</td>\n      <td>2</td>\n      <td>-82.98802</td>\n      <td>1</td>\n      <td>Condominium</td>\n      <td>5</td>\n      <td>3</td>\n      <td>120</td>\n      <td>f</td>\n      <td>Real Bed</td>\n      <td>3</td>\n      <td>67</td>\n      <td>f</td>\n      <td>1125</td>\n      <td>strict_14_with_grace_period</td>\n      <td>f</td>\n    </tr>\n    <tr>\n      <th>217369</th>\n      <td>1.0</td>\n      <td>1.0</td>\n      <td>287</td>\n      <td>317</td>\n      <td>1.0</td>\n      <td>1</td>\n      <td>f</td>\n      <td>Entire home/apt</td>\n      <td>47.66101</td>\n      <td>1</td>\n      <td>-122.34084</td>\n      <td>30</td>\n      <td>Serviced apartment</td>\n      <td>3</td>\n      <td>455</td>\n      <td>270</td>\n      <td>t</td>\n      <td>Real Bed</td>\n      <td>3</td>\n      <td>376</td>\n      <td>f</td>\n      <td>1125</td>\n      <td>strict_14_with_grace_period</td>\n      <td>f</td>\n    </tr>\n    <tr>\n      <th>153008</th>\n      <td>2.0</td>\n      <td>2.0</td>\n      <td>3</td>\n      <td>3</td>\n      <td>1.5</td>\n      <td>2</td>\n      <td>f</td>\n      <td>Entire home/apt</td>\n      <td>40.82495</td>\n      <td>2</td>\n      <td>-73.94023</td>\n      <td>1</td>\n      <td>Apartment</td>\n      <td>4</td>\n      <td>3</td>\n      <td>3</td>\n      <td>t</td>\n      <td>Real Bed</td>\n      <td>3</td>\n      <td>3</td>\n      <td>f</td>\n      <td>30</td>\n      <td>flexible</td>\n      <td>f</td>\n    </tr>\n    <tr>\n      <th>180362</th>\n      <td>5.0</td>\n      <td>5.0</td>\n      <td>63</td>\n      <td>132</td>\n      <td>2.5</td>\n      <td>5</td>\n      <td>f</td>\n      <td>Entire home/apt</td>\n      <td>41.64919</td>\n      <td>5</td>\n      <td>-71.22206</td>\n      <td>3</td>\n      <td>House</td>\n      <td>10</td>\n      <td>127</td>\n      <td>383</td>\n      <td>f</td>\n      <td>Real Bed</td>\n      <td>316</td>\n      <td>114</td>\n      <td>f</td>\n      <td>1125</td>\n      <td>moderate</td>\n      <td>f</td>\n    </tr>\n    <tr>\n      <th>86132</th>\n      <td>1.0</td>\n      <td>2.0</td>\n      <td>345</td>\n      <td>67</td>\n      <td>1.0</td>\n      <td>1</td>\n      <td>f</td>\n      <td>Entire home/apt</td>\n      <td>34.03090</td>\n      <td>2</td>\n      <td>-118.26353</td>\n      <td>31</td>\n      <td>Apartment</td>\n      <td>3</td>\n      <td>3</td>\n      <td>212</td>\n      <td>t</td>\n      <td>Real Bed</td>\n      <td>3</td>\n      <td>3</td>\n      <td>f</td>\n      <td>365</td>\n      <td>strict_14_with_grace_period</td>\n      <td>f</td>\n    </tr>\n    <tr>\n      <th>...</th>\n      <td>...</td>\n      <td>...</td>\n      <td>...</td>\n      <td>...</td>\n      <td>...</td>\n      <td>...</td>\n      <td>...</td>\n      <td>...</td>\n      <td>...</td>\n      <td>...</td>\n      <td>...</td>\n      <td>...</td>\n      <td>...</td>\n      <td>...</td>\n      <td>...</td>\n      <td>...</td>\n      <td>...</td>\n      <td>...</td>\n      <td>...</td>\n      <td>...</td>\n      <td>...</td>\n      <td>...</td>\n      <td>...</td>\n      <td>...</td>\n    </tr>\n    <tr>\n      <th>120860</th>\n      <td>1.0</td>\n      <td>1.0</td>\n      <td>3</td>\n      <td>3</td>\n      <td>1.0</td>\n      <td>1</td>\n      <td>f</td>\n      <td>Entire home/apt</td>\n      <td>40.79323</td>\n      <td>1</td>\n      <td>-73.97267</td>\n      <td>5</td>\n      <td>Apartment</td>\n      <td>2</td>\n      <td>3</td>\n      <td>3</td>\n      <td>f</td>\n      <td>Real Bed</td>\n      <td>25</td>\n      <td>3</td>\n      <td>f</td>\n      <td>60</td>\n      <td>moderate</td>\n      <td>f</td>\n    </tr>\n    <tr>\n      <th>104426</th>\n      <td>1.0</td>\n      <td>1.0</td>\n      <td>204</td>\n      <td>3</td>\n      <td>1.0</td>\n      <td>1</td>\n      <td>f</td>\n      <td>Entire home/apt</td>\n      <td>34.06525</td>\n      <td>1</td>\n      <td>-118.39569</td>\n      <td>31</td>\n      <td>Apartment</td>\n      <td>4</td>\n      <td>3</td>\n      <td>122</td>\n      <td>f</td>\n      <td>Real Bed</td>\n      <td>467</td>\n      <td>58</td>\n      <td>f</td>\n      <td>1125</td>\n      <td>strict_14_with_grace_period</td>\n      <td>f</td>\n    </tr>\n    <tr>\n      <th>132975</th>\n      <td>1.0</td>\n      <td>1.0</td>\n      <td>567</td>\n      <td>168</td>\n      <td>1.0</td>\n      <td>1</td>\n      <td>f</td>\n      <td>Entire home/apt</td>\n      <td>40.71780</td>\n      <td>1</td>\n      <td>-73.95595</td>\n      <td>4</td>\n      <td>Apartment</td>\n      <td>2</td>\n      <td>3</td>\n      <td>177</td>\n      <td>f</td>\n      <td>Real Bed</td>\n      <td>376</td>\n      <td>137</td>\n      <td>f</td>\n      <td>10</td>\n      <td>strict_14_with_grace_period</td>\n      <td>f</td>\n    </tr>\n    <tr>\n      <th>147923</th>\n      <td>1.0</td>\n      <td>0.0</td>\n      <td>172</td>\n      <td>12</td>\n      <td>1.0</td>\n      <td>1</td>\n      <td>f</td>\n      <td>Entire home/apt</td>\n      <td>40.76457</td>\n      <td>0</td>\n      <td>-73.97518</td>\n      <td>30</td>\n      <td>Apartment</td>\n      <td>1</td>\n      <td>40</td>\n      <td>3</td>\n      <td>f</td>\n      <td>Real Bed</td>\n      <td>3</td>\n      <td>3</td>\n      <td>f</td>\n      <td>1125</td>\n      <td>flexible</td>\n      <td>f</td>\n    </tr>\n    <tr>\n      <th>122986</th>\n      <td>1.0</td>\n      <td>1.0</td>\n      <td>129</td>\n      <td>41</td>\n      <td>1.0</td>\n      <td>1</td>\n      <td>f</td>\n      <td>Entire home/apt</td>\n      <td>40.71419</td>\n      <td>1</td>\n      <td>-73.95042</td>\n      <td>7</td>\n      <td>Apartment</td>\n      <td>2</td>\n      <td>3</td>\n      <td>8</td>\n      <td>f</td>\n      <td>Real Bed</td>\n      <td>86</td>\n      <td>164</td>\n      <td>f</td>\n      <td>27</td>\n      <td>flexible</td>\n      <td>f</td>\n    </tr>\n  </tbody>\n</table>\n<p>184760 rows × 24 columns</p>\n</div>"
     },
     "metadata": {},
     "execution_count": 126
    }
   ],
   "source": [
    "X_train"
   ]
  },
  {
   "source": [
    "#### Linear model + Kbest in a pipeline"
   ],
   "cell_type": "markdown",
   "metadata": {}
  },
  {
   "cell_type": "code",
   "execution_count": 121,
   "metadata": {},
   "outputs": [],
   "source": [
    "# from sklearn.feature_selection import SelectKBest\n",
    "# selector = SelectKBest(k=15) #going down from 107 features to 15???\n",
    "# X_train_selected = selector.fit_transform(X_train, y_train)\n",
    "# X_test_selected = selector.transform(X_test)"
   ]
  },
  {
   "cell_type": "code",
   "execution_count": 122,
   "metadata": {},
   "outputs": [],
   "source": [
    "# # User pipelines for linear regression\n",
    "# import category_encoders as ce\n",
    "# from sklearn.pipeline import make_pipeline\n",
    "# from sklearn.linear_model import LinearRegression\n",
    "# from sklearn.impute import SimpleImputer\n",
    "# from sklearn.feature_selection import SelectKBest\n",
    "# selector = SelectKBest(k=15) #going down from 107 features to 15???\n",
    "\n",
    "# pipeline = make_pipeline(\n",
    "#     ce.OneHotEncoder(use_cat_names=True),\n",
    "#     SimpleImputer(strategy='mean'),\n",
    "#     LinearRegression()\n",
    "# )\n",
    "\n",
    "# X_train_selected = selector.fit_transform(X_train, y_train)\n",
    "# pipeline.fit(X_train_selected,)\n",
    "\n",
    "# # pipeline.fit(X_train, y_train)\n",
    "\n"
   ]
  },
  {
   "cell_type": "code",
   "execution_count": 123,
   "metadata": {},
   "outputs": [],
   "source": [
    "# X_train_selected"
   ]
  },
  {
   "cell_type": "code",
   "execution_count": 124,
   "metadata": {},
   "outputs": [
    {
     "output_type": "execute_result",
     "data": {
      "text/plain": [
       "(184760, 24)"
      ]
     },
     "metadata": {},
     "execution_count": 124
    }
   ],
   "source": [
    "X_train.shape"
   ]
  },
  {
   "source": [
    "**OOPS**!\n",
    "\n",
    "We're run into a problem. The latitude and longitude are the only  location attribute for our prediction model. However, these coordinates would not be meaningful to the user as they are not familiar with the locations they correspond to. We could solve this by \n",
    ">(a) translating the coordinates to their corresponding neighborhoods in the app. \n",
    ">(b) Or we could pick a different location variable. \n",
    "\n",
    "We'll pick (b) which we'll implement in a separate notebook."
   ],
   "cell_type": "markdown",
   "metadata": {}
  },
  {
   "cell_type": "code",
   "execution_count": 127,
   "metadata": {},
   "outputs": [
    {
     "output_type": "execute_result",
     "data": {
      "text/plain": [
       "        bedrooms  beds  transit_len  access_len  bathrooms bedrooms_str  \\\n",
       "39931        2.0   2.0          110         171        1.0            2   \n",
       "217369       1.0   1.0          287         317        1.0            1   \n",
       "153008       2.0   2.0            3           3        1.5            2   \n",
       "180362       5.0   5.0           63         132        2.5            5   \n",
       "86132        1.0   2.0          345          67        1.0            1   \n",
       "...          ...   ...          ...         ...        ...          ...   \n",
       "120860       1.0   1.0            3           3        1.0            1   \n",
       "104426       1.0   1.0          204           3        1.0            1   \n",
       "132975       1.0   1.0          567         168        1.0            1   \n",
       "147923       1.0   0.0          172          12        1.0            1   \n",
       "122986       1.0   1.0          129          41        1.0            1   \n",
       "\n",
       "       require_guest_profile_picture        room_type  latitude beds_str  \\\n",
       "39931                              f  Entire home/apt  39.95069        2   \n",
       "217369                             f  Entire home/apt  47.66101        1   \n",
       "153008                             f  Entire home/apt  40.82495        2   \n",
       "180362                             f  Entire home/apt  41.64919        5   \n",
       "86132                              f  Entire home/apt  34.03090        2   \n",
       "...                              ...              ...       ...      ...   \n",
       "120860                             f  Entire home/apt  40.79323        1   \n",
       "104426                             f  Entire home/apt  34.06525        1   \n",
       "132975                             f  Entire home/apt  40.71780        1   \n",
       "147923                             f  Entire home/apt  40.76457        0   \n",
       "122986                             f  Entire home/apt  40.71419        1   \n",
       "\n",
       "        longitude  minimum_nights       property_type  accommodates  \\\n",
       "39931   -82.98802               1         Condominium             5   \n",
       "217369 -122.34084              30  Serviced apartment             3   \n",
       "153008  -73.94023               1           Apartment             4   \n",
       "180362  -71.22206               3               House            10   \n",
       "86132  -118.26353              31           Apartment             3   \n",
       "...           ...             ...                 ...           ...   \n",
       "120860  -73.97267               5           Apartment             2   \n",
       "104426 -118.39569              31           Apartment             4   \n",
       "132975  -73.95595               4           Apartment             2   \n",
       "147923  -73.97518              30           Apartment             1   \n",
       "122986  -73.95042               7           Apartment             2   \n",
       "\n",
       "        notes_len  interaction_len instant_bookable  bed_type  host_about_len  \\\n",
       "39931           3              120                f  Real Bed               3   \n",
       "217369        455              270                t  Real Bed               3   \n",
       "153008          3                3                t  Real Bed               3   \n",
       "180362        127              383                f  Real Bed             316   \n",
       "86132           3              212                t  Real Bed               3   \n",
       "...           ...              ...              ...       ...             ...   \n",
       "120860          3                3                f  Real Bed              25   \n",
       "104426          3              122                f  Real Bed             467   \n",
       "132975          3              177                f  Real Bed             376   \n",
       "147923         40                3                f  Real Bed               3   \n",
       "122986          3                8                f  Real Bed              86   \n",
       "\n",
       "        house_rules_len is_business_travel_ready  maximum_nights  \\\n",
       "39931                67                        f            1125   \n",
       "217369              376                        f            1125   \n",
       "153008                3                        f              30   \n",
       "180362              114                        f            1125   \n",
       "86132                 3                        f             365   \n",
       "...                 ...                      ...             ...   \n",
       "120860                3                        f              60   \n",
       "104426               58                        f            1125   \n",
       "132975              137                        f              10   \n",
       "147923                3                        f            1125   \n",
       "122986              164                        f              27   \n",
       "\n",
       "                cancellation_policy require_guest_phone_verification  \n",
       "39931   strict_14_with_grace_period                                f  \n",
       "217369  strict_14_with_grace_period                                f  \n",
       "153008                     flexible                                f  \n",
       "180362                     moderate                                f  \n",
       "86132   strict_14_with_grace_period                                f  \n",
       "...                             ...                              ...  \n",
       "120860                     moderate                                f  \n",
       "104426  strict_14_with_grace_period                                f  \n",
       "132975  strict_14_with_grace_period                                f  \n",
       "147923                     flexible                                f  \n",
       "122986                     flexible                                f  \n",
       "\n",
       "[184760 rows x 24 columns]"
      ],
      "text/html": "<div>\n<style scoped>\n    .dataframe tbody tr th:only-of-type {\n        vertical-align: middle;\n    }\n\n    .dataframe tbody tr th {\n        vertical-align: top;\n    }\n\n    .dataframe thead th {\n        text-align: right;\n    }\n</style>\n<table border=\"1\" class=\"dataframe\">\n  <thead>\n    <tr style=\"text-align: right;\">\n      <th></th>\n      <th>bedrooms</th>\n      <th>beds</th>\n      <th>transit_len</th>\n      <th>access_len</th>\n      <th>bathrooms</th>\n      <th>bedrooms_str</th>\n      <th>require_guest_profile_picture</th>\n      <th>room_type</th>\n      <th>latitude</th>\n      <th>beds_str</th>\n      <th>longitude</th>\n      <th>minimum_nights</th>\n      <th>property_type</th>\n      <th>accommodates</th>\n      <th>notes_len</th>\n      <th>interaction_len</th>\n      <th>instant_bookable</th>\n      <th>bed_type</th>\n      <th>host_about_len</th>\n      <th>house_rules_len</th>\n      <th>is_business_travel_ready</th>\n      <th>maximum_nights</th>\n      <th>cancellation_policy</th>\n      <th>require_guest_phone_verification</th>\n    </tr>\n  </thead>\n  <tbody>\n    <tr>\n      <th>39931</th>\n      <td>2.0</td>\n      <td>2.0</td>\n      <td>110</td>\n      <td>171</td>\n      <td>1.0</td>\n      <td>2</td>\n      <td>f</td>\n      <td>Entire home/apt</td>\n      <td>39.95069</td>\n      <td>2</td>\n      <td>-82.98802</td>\n      <td>1</td>\n      <td>Condominium</td>\n      <td>5</td>\n      <td>3</td>\n      <td>120</td>\n      <td>f</td>\n      <td>Real Bed</td>\n      <td>3</td>\n      <td>67</td>\n      <td>f</td>\n      <td>1125</td>\n      <td>strict_14_with_grace_period</td>\n      <td>f</td>\n    </tr>\n    <tr>\n      <th>217369</th>\n      <td>1.0</td>\n      <td>1.0</td>\n      <td>287</td>\n      <td>317</td>\n      <td>1.0</td>\n      <td>1</td>\n      <td>f</td>\n      <td>Entire home/apt</td>\n      <td>47.66101</td>\n      <td>1</td>\n      <td>-122.34084</td>\n      <td>30</td>\n      <td>Serviced apartment</td>\n      <td>3</td>\n      <td>455</td>\n      <td>270</td>\n      <td>t</td>\n      <td>Real Bed</td>\n      <td>3</td>\n      <td>376</td>\n      <td>f</td>\n      <td>1125</td>\n      <td>strict_14_with_grace_period</td>\n      <td>f</td>\n    </tr>\n    <tr>\n      <th>153008</th>\n      <td>2.0</td>\n      <td>2.0</td>\n      <td>3</td>\n      <td>3</td>\n      <td>1.5</td>\n      <td>2</td>\n      <td>f</td>\n      <td>Entire home/apt</td>\n      <td>40.82495</td>\n      <td>2</td>\n      <td>-73.94023</td>\n      <td>1</td>\n      <td>Apartment</td>\n      <td>4</td>\n      <td>3</td>\n      <td>3</td>\n      <td>t</td>\n      <td>Real Bed</td>\n      <td>3</td>\n      <td>3</td>\n      <td>f</td>\n      <td>30</td>\n      <td>flexible</td>\n      <td>f</td>\n    </tr>\n    <tr>\n      <th>180362</th>\n      <td>5.0</td>\n      <td>5.0</td>\n      <td>63</td>\n      <td>132</td>\n      <td>2.5</td>\n      <td>5</td>\n      <td>f</td>\n      <td>Entire home/apt</td>\n      <td>41.64919</td>\n      <td>5</td>\n      <td>-71.22206</td>\n      <td>3</td>\n      <td>House</td>\n      <td>10</td>\n      <td>127</td>\n      <td>383</td>\n      <td>f</td>\n      <td>Real Bed</td>\n      <td>316</td>\n      <td>114</td>\n      <td>f</td>\n      <td>1125</td>\n      <td>moderate</td>\n      <td>f</td>\n    </tr>\n    <tr>\n      <th>86132</th>\n      <td>1.0</td>\n      <td>2.0</td>\n      <td>345</td>\n      <td>67</td>\n      <td>1.0</td>\n      <td>1</td>\n      <td>f</td>\n      <td>Entire home/apt</td>\n      <td>34.03090</td>\n      <td>2</td>\n      <td>-118.26353</td>\n      <td>31</td>\n      <td>Apartment</td>\n      <td>3</td>\n      <td>3</td>\n      <td>212</td>\n      <td>t</td>\n      <td>Real Bed</td>\n      <td>3</td>\n      <td>3</td>\n      <td>f</td>\n      <td>365</td>\n      <td>strict_14_with_grace_period</td>\n      <td>f</td>\n    </tr>\n    <tr>\n      <th>...</th>\n      <td>...</td>\n      <td>...</td>\n      <td>...</td>\n      <td>...</td>\n      <td>...</td>\n      <td>...</td>\n      <td>...</td>\n      <td>...</td>\n      <td>...</td>\n      <td>...</td>\n      <td>...</td>\n      <td>...</td>\n      <td>...</td>\n      <td>...</td>\n      <td>...</td>\n      <td>...</td>\n      <td>...</td>\n      <td>...</td>\n      <td>...</td>\n      <td>...</td>\n      <td>...</td>\n      <td>...</td>\n      <td>...</td>\n      <td>...</td>\n    </tr>\n    <tr>\n      <th>120860</th>\n      <td>1.0</td>\n      <td>1.0</td>\n      <td>3</td>\n      <td>3</td>\n      <td>1.0</td>\n      <td>1</td>\n      <td>f</td>\n      <td>Entire home/apt</td>\n      <td>40.79323</td>\n      <td>1</td>\n      <td>-73.97267</td>\n      <td>5</td>\n      <td>Apartment</td>\n      <td>2</td>\n      <td>3</td>\n      <td>3</td>\n      <td>f</td>\n      <td>Real Bed</td>\n      <td>25</td>\n      <td>3</td>\n      <td>f</td>\n      <td>60</td>\n      <td>moderate</td>\n      <td>f</td>\n    </tr>\n    <tr>\n      <th>104426</th>\n      <td>1.0</td>\n      <td>1.0</td>\n      <td>204</td>\n      <td>3</td>\n      <td>1.0</td>\n      <td>1</td>\n      <td>f</td>\n      <td>Entire home/apt</td>\n      <td>34.06525</td>\n      <td>1</td>\n      <td>-118.39569</td>\n      <td>31</td>\n      <td>Apartment</td>\n      <td>4</td>\n      <td>3</td>\n      <td>122</td>\n      <td>f</td>\n      <td>Real Bed</td>\n      <td>467</td>\n      <td>58</td>\n      <td>f</td>\n      <td>1125</td>\n      <td>strict_14_with_grace_period</td>\n      <td>f</td>\n    </tr>\n    <tr>\n      <th>132975</th>\n      <td>1.0</td>\n      <td>1.0</td>\n      <td>567</td>\n      <td>168</td>\n      <td>1.0</td>\n      <td>1</td>\n      <td>f</td>\n      <td>Entire home/apt</td>\n      <td>40.71780</td>\n      <td>1</td>\n      <td>-73.95595</td>\n      <td>4</td>\n      <td>Apartment</td>\n      <td>2</td>\n      <td>3</td>\n      <td>177</td>\n      <td>f</td>\n      <td>Real Bed</td>\n      <td>376</td>\n      <td>137</td>\n      <td>f</td>\n      <td>10</td>\n      <td>strict_14_with_grace_period</td>\n      <td>f</td>\n    </tr>\n    <tr>\n      <th>147923</th>\n      <td>1.0</td>\n      <td>0.0</td>\n      <td>172</td>\n      <td>12</td>\n      <td>1.0</td>\n      <td>1</td>\n      <td>f</td>\n      <td>Entire home/apt</td>\n      <td>40.76457</td>\n      <td>0</td>\n      <td>-73.97518</td>\n      <td>30</td>\n      <td>Apartment</td>\n      <td>1</td>\n      <td>40</td>\n      <td>3</td>\n      <td>f</td>\n      <td>Real Bed</td>\n      <td>3</td>\n      <td>3</td>\n      <td>f</td>\n      <td>1125</td>\n      <td>flexible</td>\n      <td>f</td>\n    </tr>\n    <tr>\n      <th>122986</th>\n      <td>1.0</td>\n      <td>1.0</td>\n      <td>129</td>\n      <td>41</td>\n      <td>1.0</td>\n      <td>1</td>\n      <td>f</td>\n      <td>Entire home/apt</td>\n      <td>40.71419</td>\n      <td>1</td>\n      <td>-73.95042</td>\n      <td>7</td>\n      <td>Apartment</td>\n      <td>2</td>\n      <td>3</td>\n      <td>8</td>\n      <td>f</td>\n      <td>Real Bed</td>\n      <td>86</td>\n      <td>164</td>\n      <td>f</td>\n      <td>27</td>\n      <td>flexible</td>\n      <td>f</td>\n    </tr>\n  </tbody>\n</table>\n<p>184760 rows × 24 columns</p>\n</div>"
     },
     "metadata": {},
     "execution_count": 127
    }
   ],
   "source": [
    "X_train"
   ]
  },
  {
   "cell_type": "code",
   "execution_count": null,
   "metadata": {},
   "outputs": [],
   "source": []
  }
 ]
}